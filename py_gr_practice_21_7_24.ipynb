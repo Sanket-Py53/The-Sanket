{
 "cells": [
  {
   "cell_type": "code",
   "execution_count": null,
   "id": "16bef9a8-8ac4-4fa5-bd5d-3ed972f9d1db",
   "metadata": {},
   "outputs": [],
   "source": [
    "list = find greatest number:\n",
    "       find 2nd greatest num:\n",
    "       fine lowest number "
   ]
  },
  {
   "cell_type": "code",
   "execution_count": null,
   "id": "8a12a92e-1f93-43c5-b568-99b3bdb3a9df",
   "metadata": {},
   "outputs": [],
   "source": []
  },
  {
   "cell_type": "code",
   "execution_count": 7,
   "id": "604e6ee4-13f9-407a-b087-01e489eac0ae",
   "metadata": {},
   "outputs": [
    {
     "name": "stdout",
     "output_type": "stream",
     "text": [
      "The maximum number in list is 6584\n"
     ]
    }
   ],
   "source": [
    "Lst2 = [35,753,6584,3546,-23,254,36,364,0,456,987,356,]\n",
    "var = Lst2[0]\n",
    "for i in Lst2:\n",
    "    if i > var:\n",
    "        var = i\n",
    "\n",
    "print(\"The maximum number in list is\", var)"
   ]
  },
  {
   "cell_type": "code",
   "execution_count": 13,
   "id": "e6133592-5093-4c8a-984c-0409407630a6",
   "metadata": {},
   "outputs": [
    {
     "name": "stdout",
     "output_type": "stream",
     "text": [
      "The 2nd maximum number in list is 3546\n"
     ]
    }
   ],
   "source": [
    "Lst2 = [35,753,6584,3546,-23,254,36,364,0,456,987,356,]\n",
    "\n",
    "first_max = Lst2[0]\n",
    "second_max = Lst2[1]\n",
    "for i in Lst2:\n",
    "    if i > first_max:\n",
    "        first_max = i\n",
    "    elif i > second_max:\n",
    "        second_max = i\n",
    "\n",
    "print(\"The 2nd maximum number in list is\", second_max)"
   ]
  },
  {
   "cell_type": "code",
   "execution_count": null,
   "id": "d4cbd7f7-ebbd-43f9-aaca-5f62bfdbb06d",
   "metadata": {},
   "outputs": [],
   "source": []
  },
  {
   "cell_type": "code",
   "execution_count": null,
   "id": "3a4721d6-8389-4fb7-bad1-1a07223c06c2",
   "metadata": {},
   "outputs": [],
   "source": [
    "Lst2 = [35,753,6584,3546,-23,254,36,364,0,456,987,356,]\n",
    "\n",
    "# find 4 digit number and delete"
   ]
  },
  {
   "cell_type": "code",
   "execution_count": 89,
   "id": "3a7255ad-6435-44f7-bc3e-fd9480b957d7",
   "metadata": {},
   "outputs": [
    {
     "name": "stdout",
     "output_type": "stream",
     "text": [
      "6584\n",
      "3546\n"
     ]
    }
   ],
   "source": [
    "Lst2 = [35,753,6584,3546,-23,254,36,364,0,456,987,356,]\n",
    "l1= []\n",
    "for i in Lst2:\n",
    "    if len(str(i))==4:\n",
    "        print(i)"
   ]
  },
  {
   "cell_type": "code",
   "execution_count": null,
   "id": "1d2ef7e8-9911-4664-b757-492fe4a4a692",
   "metadata": {},
   "outputs": [],
   "source": []
  },
  {
   "cell_type": "code",
   "execution_count": 105,
   "id": "7ac3d656-9c88-4e83-a3ec-35965ebb0a15",
   "metadata": {},
   "outputs": [
    {
     "name": "stdout",
     "output_type": "stream",
     "text": [
      "[35, 753, -23, 254, 36, 364, 0, 456, 987, 356]\n"
     ]
    }
   ],
   "source": [
    "Lst2 = [35,753,6584,3546,-23,254,36,364,0,456,987,356,] \n",
    "for i in Lst2[:]:    #creates a copy of the list Lst2 using slicing Lst2[:]\n",
    "    if len(str(i))==4:\n",
    "        Lst2.remove(i)\n",
    "print(Lst2)"
   ]
  },
  {
   "cell_type": "code",
   "execution_count": null,
   "id": "c78f4cc0-8bcb-437f-b1c2-ce96c35c36eb",
   "metadata": {},
   "outputs": [],
   "source": []
  },
  {
   "cell_type": "code",
   "execution_count": 129,
   "id": "db721843-0b7b-4565-8dd7-6ac99c8b5574",
   "metadata": {},
   "outputs": [
    {
     "name": "stdout",
     "output_type": "stream",
     "text": [
      "[35, 753, -23, 254, 36, 364, 0, 456, 987, 356]\n"
     ]
    }
   ],
   "source": [
    "#remove 4 digit  elements using range\n",
    "Lst2 = [35,753,6584,3546,-23,254,36,364,0,456,987,356,] \n",
    "\n",
    "for i in range(len(Lst2)-1,-1,-1):\n",
    "    if len(str(Lst2[i]))==4:\n",
    "        del Lst2[i]\n",
    "print(Lst2)"
   ]
  },
  {
   "cell_type": "code",
   "execution_count": null,
   "id": "e54ef4d4-b946-4e35-9da2-731f153456a2",
   "metadata": {},
   "outputs": [],
   "source": []
  },
  {
   "cell_type": "code",
   "execution_count": null,
   "id": "06aedee7-c709-43fa-809e-20766d385a00",
   "metadata": {},
   "outputs": [],
   "source": []
  },
  {
   "cell_type": "code",
   "execution_count": null,
   "id": "d626546d-e4ac-4934-bdb0-22088d63577d",
   "metadata": {},
   "outputs": [],
   "source": [
    "#Ankush Bhasme 8:48 PM\n",
    "\n",
    "Lst2 = [35,753,6584,3546, 254,36,364,456,987,356,]\n",
    "l1=[]\n",
    "for i in Lst2:\n",
    "    if len(str(i))==4:\n",
    "        l1.append(i)\n",
    "s1=set(Lst2)\n",
    "s2=set(l1)\n",
    "\n",
    "        \n",
    "new_list=s1.symmetric_difference(s2)\n",
    "print(new_list)"
   ]
  },
  {
   "cell_type": "code",
   "execution_count": null,
   "id": "6ee8010f-efff-4675-83e3-f032480b5ffc",
   "metadata": {},
   "outputs": [],
   "source": []
  },
  {
   "cell_type": "code",
   "execution_count": null,
   "id": "a16a2693-a58c-450e-b015-287d485a95ac",
   "metadata": {},
   "outputs": [],
   "source": []
  },
  {
   "cell_type": "code",
   "execution_count": null,
   "id": "6445900f-1acc-4e3b-b6a1-12a4f6b3cfe8",
   "metadata": {},
   "outputs": [],
   "source": []
  },
  {
   "cell_type": "code",
   "execution_count": 19,
   "id": "cb44b7dd-563d-415a-adb2-2d2b592df47b",
   "metadata": {},
   "outputs": [
    {
     "name": "stdout",
     "output_type": "stream",
     "text": [
      "Sorted List Is: [1, 2, 3, 4, 8, 52, 62, 63, 581, 651]\n"
     ]
    }
   ],
   "source": [
    "#sorting/ bubble sort ==> Bubble sort is a simple sorting algorithm used in Python to arrange data \n",
    "#comparing and swapping adjacent elements if they are in the wrong order. This process continues until no \n",
    "#more swaps are needed, indicating that the list is sorted. However, bubble sort is not the most efficient \n",
    "#sorting algorithm, especially for large data sets.\n",
    "\n",
    "#Lst2 = [35,753,6584,3546,-23,254,36,364,0,456,987,356,]\n",
    "\n",
    "#Ankush Bhasme7:24 PM\n",
    "#sorting element in asceding order\n",
    "def max_element(l1):\n",
    "    n=len(l1)\n",
    "    for i in range(n-1,0,-1):   #loop in reverse order\n",
    "        for j in range(i):\n",
    "            if l1[j] > l1[j+1]:\n",
    "                temp=l1[j]\n",
    "                l1[j]=l1[j+1]\n",
    "                l1[j+1]=temp\n",
    "    return l1\n",
    "\n",
    "l1=[1,2,651,52,8,581,62,63,4,3]\n",
    "print(\"Sorted List Is:\",max_element(l1))"
   ]
  },
  {
   "cell_type": "code",
   "execution_count": null,
   "id": "e3ca3a86-fbd3-4914-a9e2-d2401d94e938",
   "metadata": {},
   "outputs": [],
   "source": []
  },
  {
   "cell_type": "code",
   "execution_count": 23,
   "id": "7a879f87-b0fc-4d56-81fa-ef9239f8a8dc",
   "metadata": {},
   "outputs": [
    {
     "name": "stdout",
     "output_type": "stream",
     "text": [
      "Sorted List Is: [1, 2, 3, 4, 8, 52, 62, 63, 581, 651]\n"
     ]
    }
   ],
   "source": [
    "def max_element(l1):\n",
    "    n=len(l1)\n",
    "    for i in range(n):   #loop in forward order\n",
    "        for j in range(0,n-i-1):   #loop in forward order\n",
    "            if l1[j] > l1[j+1]:\n",
    "                temp=l1[j]\n",
    "                l1[j]=l1[j+1]\n",
    "                l1[j+1]=temp\n",
    "    return l1\n",
    "\n",
    "l1=[1,2,651,52,8,581,62,63,4,3]\n",
    "print(\"Sorted List Is:\",max_element(l1))"
   ]
  },
  {
   "cell_type": "code",
   "execution_count": null,
   "id": "94d46d39-13a9-41db-bff6-5f215a3c41f6",
   "metadata": {},
   "outputs": [],
   "source": []
  },
  {
   "cell_type": "code",
   "execution_count": null,
   "id": "91c6f98c-38b0-4d09-a4cb-2e7753201bc8",
   "metadata": {},
   "outputs": [],
   "source": [
    "Yogen\n",
    "7:43 PM\n",
    "lst = [\"aa\", \"ab\", \"ac\", \"ad\"]\n",
    "\n",
    "print(lst[1: ][ :2])    #([x:y])   includes x and excludes y/ y-1\n",
    "\n",
    "ANSWER\n",
    "\n",
    "a. [\"aa\", \"ab\", \"ac\", \"ad\"]\n",
    "\n",
    "b. [\"aa\", \"ab\", \"ac\"]\n",
    "\n",
    "c. [\"ab\", \"ac\", \"ad\"]\n",
    "\n",
    "d. ['ab', 'ac']"
   ]
  },
  {
   "cell_type": "code",
   "execution_count": 25,
   "id": "97ea3116-ba68-4f7b-9d57-2872a28a1916",
   "metadata": {},
   "outputs": [
    {
     "name": "stdout",
     "output_type": "stream",
     "text": [
      "['ab', 'ac', 'ad']\n"
     ]
    }
   ],
   "source": [
    "lst = [\"aa\", \"ab\", \"ac\", \"ad\"]\n",
    "\n",
    "print(lst[1:])     "
   ]
  },
  {
   "cell_type": "code",
   "execution_count": 29,
   "id": "92fd9b17-7382-4e48-ab69-f6024c404311",
   "metadata": {},
   "outputs": [
    {
     "name": "stdout",
     "output_type": "stream",
     "text": [
      "['ab', 'ac']\n"
     ]
    }
   ],
   "source": [
    "lst = [\"ab\", \"ac\", \"ad\"]\n",
    "\n",
    "print(lst[ :2])"
   ]
  },
  {
   "cell_type": "code",
   "execution_count": null,
   "id": "6105ef45-49fa-49f7-a307-44dc4bd78d0a",
   "metadata": {},
   "outputs": [],
   "source": []
  },
  {
   "cell_type": "code",
   "execution_count": null,
   "id": "8fa2d9e5-49fe-4f52-8237-b80412138edc",
   "metadata": {},
   "outputs": [],
   "source": [
    "Yogen\n",
    "7:55 PM\n",
    "\n",
    "L = ['a', 'b', 'c', 'd']\n",
    "res = ''.join(L)\n",
    "print(res)\n",
    "\n",
    "\n",
    "What will be the output?\n",
    "\n",
    "A. [abcd]\n",
    "B. a'b'c'd\"\n",
    "C. abcd\n",
    "D. Error"
   ]
  },
  {
   "cell_type": "code",
   "execution_count": 49,
   "id": "6efd94ae-55bf-4e74-b8ee-079a4572e829",
   "metadata": {},
   "outputs": [
    {
     "name": "stdout",
     "output_type": "stream",
     "text": [
      "a@b@c@d\n"
     ]
    }
   ],
   "source": [
    "L = ['a', 'b', 'c', 'd']\n",
    "res = '@'.join(L)\n",
    "print(res)"
   ]
  },
  {
   "cell_type": "code",
   "execution_count": null,
   "id": "014f3ea4-7858-4ee5-9713-4962b95f412a",
   "metadata": {},
   "outputs": [],
   "source": []
  },
  {
   "cell_type": "code",
   "execution_count": null,
   "id": "2197c862-2383-4572-a8cb-ea661fe2f30b",
   "metadata": {},
   "outputs": [],
   "source": [
    "Yogen\n",
    "8:05 PM\n",
    "x = True\n",
    "\n",
    "y = False\n",
    "\n",
    "result = x and y\n",
    "\n",
    "print(result)\n",
    "\n",
    "a.) True\n",
    "\n",
    "b.) False\n",
    "\n",
    "c.) 1\n",
    "\n",
    "d.) o"
   ]
  },
  {
   "cell_type": "code",
   "execution_count": null,
   "id": "dfdb8feb-4b8a-4bb7-bde0-27e26c626c83",
   "metadata": {},
   "outputs": [],
   "source": []
  },
  {
   "cell_type": "code",
   "execution_count": null,
   "id": "706118c7-1db6-4d5b-9dfd-df224d45235b",
   "metadata": {},
   "outputs": [],
   "source": [
    "Yogen\n",
    "8:06 PM\n",
    "Q) Which of the following deletes the 3rd key-value pair in the following dictionary?\n",
    "\n",
    "my_dict = {1:1, 2:4, 3:9, 4:16, 5:25}\n",
    "\n",
    "OPTIONS -:\n",
    "\n",
    "A) del my_dict[3]\n",
    "\n",
    "B) my_dict.pop(3)\n",
    "\n",
    "C) Both A and B\n",
    "\n",
    "D) Dictionaries are Immutable"
   ]
  },
  {
   "cell_type": "code",
   "execution_count": null,
   "id": "3ee45830-3a16-4589-9491-9a196871e76d",
   "metadata": {},
   "outputs": [],
   "source": []
  },
  {
   "cell_type": "code",
   "execution_count": 51,
   "id": "758dfdae-45b4-4932-ba0b-57d601876548",
   "metadata": {},
   "outputs": [
    {
     "data": {
      "text/plain": [
       "9"
      ]
     },
     "execution_count": 51,
     "metadata": {},
     "output_type": "execute_result"
    }
   ],
   "source": [
    "my_dict = {1:1, 2:4, 3:9, 4:16, 5:25}\n",
    "my_dict.pop(3)"
   ]
  },
  {
   "cell_type": "code",
   "execution_count": null,
   "id": "100e543b-bbc0-4a51-b257-ee4f4bfa24a5",
   "metadata": {},
   "outputs": [],
   "source": []
  },
  {
   "cell_type": "code",
   "execution_count": null,
   "id": "ae438076-469b-4cdb-a046-c7bc09f3ca8b",
   "metadata": {},
   "outputs": [],
   "source": [
    "Yogen\n",
    "8:10 PM\n",
    "my_list = [10, 20, 30, 40, 50]\n",
    "\n",
    "result = list(filter(lambda x: x > 30, my_list))\n",
    "\n",
    "print(result)\n",
    "\n",
    "Choose your correct option:\n",
    "\n",
    "A)[10, 20, 30]\n",
    "\n",
    "B)[30, 40, 50]\n",
    "\n",
    "C)[40, 50]\n",
    "\n",
    "D)[10, 20, 30, 40, 50]"
   ]
  },
  {
   "cell_type": "code",
   "execution_count": 57,
   "id": "0e2453d1-7c00-44a9-bfc7-a291f52cdcea",
   "metadata": {},
   "outputs": [
    {
     "name": "stdout",
     "output_type": "stream",
     "text": [
      "[40, 50]\n"
     ]
    }
   ],
   "source": [
    "my_list = [10, 20, 30, 40, 50]\n",
    "\n",
    "result = list(filter(lambda x: x > 30, my_list))\n",
    "\n",
    "print(result)"
   ]
  },
  {
   "cell_type": "code",
   "execution_count": null,
   "id": "0f0ec8e5-54d6-4d1c-90d4-663f3c570b3f",
   "metadata": {},
   "outputs": [],
   "source": []
  },
  {
   "cell_type": "code",
   "execution_count": 75,
   "id": "fc46d6c9-ce54-4feb-aafe-146495377f6b",
   "metadata": {},
   "outputs": [
    {
     "ename": "KeyError",
     "evalue": "'2'",
     "output_type": "error",
     "traceback": [
      "\u001b[1;31m---------------------------------------------------------------------------\u001b[0m",
      "\u001b[1;31mKeyError\u001b[0m                                  Traceback (most recent call last)",
      "Cell \u001b[1;32mIn[75], line 3\u001b[0m\n\u001b[0;32m      1\u001b[0m my_dict \u001b[38;5;241m=\u001b[39m [{\u001b[38;5;124m'\u001b[39m\u001b[38;5;124mid\u001b[39m\u001b[38;5;124m'\u001b[39m:\u001b[38;5;241m101\u001b[39m, \u001b[38;5;124m'\u001b[39m\u001b[38;5;124mname\u001b[39m\u001b[38;5;124m'\u001b[39m:\u001b[38;5;124m'\u001b[39m\u001b[38;5;124mGajanan\u001b[39m\u001b[38;5;124m'\u001b[39m, \u001b[38;5;124m'\u001b[39m\u001b[38;5;124mage\u001b[39m\u001b[38;5;124m'\u001b[39m:\u001b[38;5;241m20\u001b[39m, \u001b[38;5;124m'\u001b[39m\u001b[38;5;124msalary\u001b[39m\u001b[38;5;124m'\u001b[39m:\u001b[38;5;241m200000\u001b[39m, \u001b[38;5;124m'\u001b[39m\u001b[38;5;124mcity\u001b[39m\u001b[38;5;124m'\u001b[39m: \u001b[38;5;124m'\u001b[39m\u001b[38;5;124mPune\u001b[39m\u001b[38;5;124m'\u001b[39m}]\n\u001b[1;32m----> 3\u001b[0m result \u001b[38;5;241m=\u001b[39m \u001b[38;5;28mdict\u001b[39m(\u001b[38;5;28;43msorted\u001b[39;49m\u001b[43m(\u001b[49m\u001b[43mmy_dict\u001b[49m\u001b[43m,\u001b[49m\u001b[43m \u001b[49m\u001b[43mkey\u001b[49m\u001b[38;5;241;43m=\u001b[39;49m\u001b[38;5;28;43;01mlambda\u001b[39;49;00m\u001b[43m \u001b[49m\u001b[43mi\u001b[49m\u001b[43m:\u001b[49m\u001b[43m \u001b[49m\u001b[43mi\u001b[49m\u001b[43m[\u001b[49m\u001b[38;5;124;43m'\u001b[39;49m\u001b[38;5;124;43m2\u001b[39;49m\u001b[38;5;124;43m'\u001b[39;49m\u001b[43m]\u001b[49m\u001b[43m)\u001b[49m)\n",
      "Cell \u001b[1;32mIn[75], line 3\u001b[0m, in \u001b[0;36m<lambda>\u001b[1;34m(i)\u001b[0m\n\u001b[0;32m      1\u001b[0m my_dict \u001b[38;5;241m=\u001b[39m [{\u001b[38;5;124m'\u001b[39m\u001b[38;5;124mid\u001b[39m\u001b[38;5;124m'\u001b[39m:\u001b[38;5;241m101\u001b[39m, \u001b[38;5;124m'\u001b[39m\u001b[38;5;124mname\u001b[39m\u001b[38;5;124m'\u001b[39m:\u001b[38;5;124m'\u001b[39m\u001b[38;5;124mGajanan\u001b[39m\u001b[38;5;124m'\u001b[39m, \u001b[38;5;124m'\u001b[39m\u001b[38;5;124mage\u001b[39m\u001b[38;5;124m'\u001b[39m:\u001b[38;5;241m20\u001b[39m, \u001b[38;5;124m'\u001b[39m\u001b[38;5;124msalary\u001b[39m\u001b[38;5;124m'\u001b[39m:\u001b[38;5;241m200000\u001b[39m, \u001b[38;5;124m'\u001b[39m\u001b[38;5;124mcity\u001b[39m\u001b[38;5;124m'\u001b[39m: \u001b[38;5;124m'\u001b[39m\u001b[38;5;124mPune\u001b[39m\u001b[38;5;124m'\u001b[39m}]\n\u001b[1;32m----> 3\u001b[0m result \u001b[38;5;241m=\u001b[39m \u001b[38;5;28mdict\u001b[39m(\u001b[38;5;28msorted\u001b[39m(my_dict, key\u001b[38;5;241m=\u001b[39m\u001b[38;5;28;01mlambda\u001b[39;00m i: \u001b[43mi\u001b[49m\u001b[43m[\u001b[49m\u001b[38;5;124;43m'\u001b[39;49m\u001b[38;5;124;43m2\u001b[39;49m\u001b[38;5;124;43m'\u001b[39;49m\u001b[43m]\u001b[49m))\n",
      "\u001b[1;31mKeyError\u001b[0m: '2'"
     ]
    }
   ],
   "source": [
    "my_dict = [{'id':101, 'name':'Gajanan', 'age':20, 'salary':200000, 'city': 'Pune'}]\n",
    "\n",
    "result = dict(sorted(my_dict, key=lambda i: i['2']))"
   ]
  },
  {
   "cell_type": "code",
   "execution_count": null,
   "id": "73153418-7195-42e9-9185-73173f11b226",
   "metadata": {},
   "outputs": [],
   "source": []
  },
  {
   "cell_type": "code",
   "execution_count": 77,
   "id": "7e3bac6d-4312-43e7-8e8a-bb8dfcb8474f",
   "metadata": {},
   "outputs": [
    {
     "name": "stdout",
     "output_type": "stream",
     "text": [
      "The list printed sorting by age: \n",
      "[{'name': 'Nikhil', 'age': 19}, {'name': 'Nandini', 'age': 20}, {'name': 'Manjeet', 'age': 20}]\n"
     ]
    }
   ],
   "source": [
    "list = [{\"name\": \"Nandini\", \"age\": 20},\n",
    "       {\"name\": \"Manjeet\", \"age\": 20},\n",
    "       {\"name\": \"Nikhil\", \"age\": 19}]\n",
    " \n",
    "# using sorted and lambda to print list sorted\n",
    "# by age\n",
    "print(\"The list printed sorting by age: \")\n",
    "print(sorted(list, key=lambda i: i['age']))"
   ]
  },
  {
   "cell_type": "code",
   "execution_count": null,
   "id": "13021337-9e17-4fc7-bcbc-b52aa57e2b9c",
   "metadata": {},
   "outputs": [],
   "source": []
  },
  {
   "cell_type": "code",
   "execution_count": null,
   "id": "9b099643-4050-4368-b3a2-867fd703becc",
   "metadata": {},
   "outputs": [],
   "source": []
  },
  {
   "cell_type": "code",
   "execution_count": null,
   "id": "8def9330-d383-441e-a504-7b44ec124b3e",
   "metadata": {},
   "outputs": [],
   "source": []
  },
  {
   "cell_type": "code",
   "execution_count": null,
   "id": "b6338066-0933-42b8-a43e-9a170f3492b4",
   "metadata": {},
   "outputs": [],
   "source": []
  }
 ],
 "metadata": {
  "kernelspec": {
   "display_name": "Python 3 (ipykernel)",
   "language": "python",
   "name": "python3"
  },
  "language_info": {
   "codemirror_mode": {
    "name": "ipython",
    "version": 3
   },
   "file_extension": ".py",
   "mimetype": "text/x-python",
   "name": "python",
   "nbconvert_exporter": "python",
   "pygments_lexer": "ipython3",
   "version": "3.11.7"
  }
 },
 "nbformat": 4,
 "nbformat_minor": 5
}
