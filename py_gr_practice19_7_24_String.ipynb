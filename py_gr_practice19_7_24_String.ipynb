{
 "cells": [
  {
   "cell_type": "code",
   "execution_count": null,
   "id": "5143bd80-89a3-45b7-b252-28002e9c7ee9",
   "metadata": {},
   "outputs": [],
   "source": [
    "\"\"\"\n",
    "\n",
    "DS:- way of organizing and storing data, so that it can be accessed and worked efficiently.\n",
    "\n",
    "Date Structure 4:- string==>  is sequence of characters. \n",
    "Strings are used to represent text data and are enclosed in quotes.\n",
    "                    --single,double,triple single & triple double quote\n",
    "                    --we can't enclose double qoute inside double quote, so we use single quote.\n",
    "\n",
    "For Multiline String==> triple(''' ''') or triple double quotes\n",
    "\n",
    "Where are strings used ???\n",
    "==> Python String are used widely in many different applications, \n",
    "such as storing and manipulating text data, representing names, addresses, and \n",
    "other types of data that can be represented as text.\n",
    "\n",
    "Properties/ Features:- \n",
    "           1.Strings are immutable, meaning once created, their contents cannot be changed.\n",
    "           2.Ordered: Strings maintain the order of characters, allowing indexing and slicing.\n",
    "           3.Iterable: Strings can be looped over character by character.\n",
    "           4.Sequence: Strings support operations like concatenation and repetition.\n",
    "           \n",
    "           5.any method on string takes a copy of the object:- strings are immutable DS. \n",
    "           This means that any method that modifies a string or returns a modified version of a \n",
    "           string will actually return a new string object, leaving the original string unchanged.\n",
    "\n",
    "\n",
    "Operation/Methods:- Python's strings have 47 methods. \n",
    "                   1-- upper() \n",
    "                   2-- lower() \n",
    "                   3-- rstrip() \n",
    "                   4-- replace(\"find\",\"replace\") \n",
    "                   5-- split (\" \") \n",
    "                   6-- capitalize() \n",
    "                   7-- center() \n",
    "                   8-- count() \n",
    "                   9-- endswith() \n",
    "                   10-- find() \n",
    "                   11-- index() \n",
    "                   12-- isalnum() \n",
    "                   13-- isalpha() \n",
    "                   14-- islower() \n",
    "                   15-- isprintable() \n",
    "                   16-- isspace() \n",
    "                   17-- istitle() \n",
    "                   18--startswith() \n",
    "                   19-- swapcase() \n",
    "                   20-- title()\n",
    "\n",
    "                   str.lower(): Converts all characters in the string to lowercase.\n",
    "str.upper(): Converts all characters in the string to uppercase.\n",
    "str.strip(): Removes leading and trailing whitespace.\n",
    "str.split(sep=None): Splits the string at the specified separator.\n",
    "str.join(iterable): Concatenates the string with an iterable of strings.\n",
    "str.replace(old, new[, count]): Replaces occurrences of a substring with another substring.\n",
    "str.find(sub[, start[, end]]): Returns the lowest index of the substring if found, otherwise -1.\n",
    "str.startswith(prefix[, start[, end]]): Checks if the string starts with the specified prefix.\n",
    "str.endswith(suffix[, start[, end]]): Checks if the string ends with the specified suffix.\n",
    "str.isdigit(): Checks if all characters in the string are digits.\n",
    "str.isalpha(): Checks if all characters in the string are alphabetic.\n",
    "str.isalnum(): Checks if all characters in the string are alphanumeric.\n",
    "str.isspace(): Checks if all characters in the string are whitespace.\n",
    "str.title(): Converts the first character of each word to uppercase and the rest to lowercase.\n",
    "str.capitalize(): Converts the first character to uppercase and the rest to lowercase.\n",
    "str.count(sub[, start[, end]]): Returns the number of non-overlapping occurrences of a substring.\n",
    "str.partition(sep): Splits the string at the first occurrence of the separator.\n",
    "str.rpartition(sep): Splits the string at the last occurrence of the separator.\n",
    "\n",
    "\n",
    "\n",
    "1. strings are immutable.\n",
    "2. any method on string takes a copy of the object.\n",
    "3.string.upper will convert the string to an upper case\n",
    "4.string.lower will convert the string to lower case\n",
    "5. string.rstrip(\"character\") will strip the trailing characters of string \n",
    "6.string.replace(\"character/alphabets\", new character/alphabets\") will replace the existing \n",
    "specified alphabets in string with new ones\n",
    "7. string.split splits the string at the given alphabet and returns a list of items\n",
    "8.string.capitalize capitalizes the first character of the word and turns rest all the \n",
    "characters to lower case\n",
    "9.string.center center aligns the string by adding the number of spaces mentioned in parenthesis\n",
    "10. string.count counts the total number of a particular set of characters in a string\n",
    "11. string.endswith checks whether a string ends with the specific characters\n",
    "12.string.find finds the first occurrence of a given value and return the index value of the \n",
    "position of that occurrence\n",
    "13.string.index finds the occurrence of a given value and returns the index value of the \n",
    "position however, if it is unable to find it will give an error causing the program to exit\n",
    "14.string.isalnum checks to find if string is alphanumeric and returns true or false\n",
    "15.string.isalpha checks if there are any numbers in the string\n",
    "16.string.islower checks if there are only lower aphabets in the string\n",
    "17. string.isprintable checks if all the characters are printable in the \n",
    "string(non printable characters e.g \\n)\n",
    "18 string.isspace checks if any space bar has been used in the string\n",
    "19.string.istitle The istitile() returns True only if the first letter of each word of the \n",
    "string is capitalized, else 20. string.isupper checks if all characters are uppercase in a string\n",
    "21. string.startswith checks if a string starts with a given value\n",
    "22. string.swapcase convert uppercase to lowercase and vice versa in a string\n",
    "23.string.title converts first character of all the words in the sentence to capital\n",
    "                   \n",
    "\n",
    "'''"
   ]
  },
  {
   "cell_type": "code",
   "execution_count": null,
   "id": "36f738d8-7e27-4e36-91d4-6a8d9b944f16",
   "metadata": {},
   "outputs": [],
   "source": []
  },
  {
   "cell_type": "code",
   "execution_count": 291,
   "id": "1a7436ad-4e65-4e0b-beff-879623694d5b",
   "metadata": {},
   "outputs": [
    {
     "name": "stdout",
     "output_type": "stream",
     "text": [
      "Hello World\n"
     ]
    }
   ],
   "source": [
    "\"\"\"Concatenation:- is the operation of joining two or more strings end-to-end to form a single string. \n",
    "                   In Python, you use the + operator to concatenate strings.\n",
    "\n",
    "Example:\n",
    "\n",
    "\"\"\"\n",
    "\n",
    "\n",
    "str1 = \"Hello\"\n",
    "str2 = \"World\"\n",
    "result = str1 + \" \" + str2  # space between the words\n",
    "print(result)"
   ]
  },
  {
   "cell_type": "code",
   "execution_count": 3,
   "id": "c78b4849-b7ee-4c0e-bab5-dd06a42dbd83",
   "metadata": {},
   "outputs": [
    {
     "name": "stdout",
     "output_type": "stream",
     "text": [
      "HelloHelloHello\n"
     ]
    }
   ],
   "source": [
    "\"\"\"Repetition:- is the operation of repeating a string multiple times. \n",
    "                In Python, you use the * operator to repeat a string.\n",
    "\n",
    "Example:\n",
    "\n",
    "\"\"\"\n",
    "str1 = \"Hello\"\n",
    "result = str1 * 3  # Repeats the string 3 times\n",
    "print(result)"
   ]
  },
  {
   "cell_type": "code",
   "execution_count": null,
   "id": "cb38d0b2-bb8f-46ed-b1be-16e4b3087cd9",
   "metadata": {},
   "outputs": [],
   "source": []
  },
  {
   "cell_type": "code",
   "execution_count": 91,
   "id": "48be2735-8e63-436a-8ec6-5c062b82dbb8",
   "metadata": {},
   "outputs": [
    {
     "name": "stdout",
     "output_type": "stream",
     "text": [
      "HelloWorld !!!HelloWorld !!!HelloWorld !!!\n"
     ]
    }
   ],
   "source": [
    "\"\"\"Combining Concatenation and Repetition\n",
    "You can also combine concatenation and repetition in your string operations.\n",
    "\n",
    "Example:\n",
    "\n",
    "\"\"\"\n",
    "str1 = \"Hello\"\n",
    "str2 = \"World !!!\"\n",
    "result = (str1 + str2) * 3  # Concatenates \"Hello\" and \"!\" then repeats the result 3 times\n",
    "print(result) "
   ]
  },
  {
   "cell_type": "code",
   "execution_count": null,
   "id": "0935f9cf-61d9-4b74-bca2-66f79c24dbbb",
   "metadata": {},
   "outputs": [],
   "source": []
  },
  {
   "cell_type": "code",
   "execution_count": 15,
   "id": "2ddcf23c-2af7-4607-a6c1-a9758b878242",
   "metadata": {},
   "outputs": [
    {
     "name": "stdout",
     "output_type": "stream",
     "text": [
      "H\n",
      "e\n",
      "l\n",
      "e\n"
     ]
    }
   ],
   "source": [
    "'''Indexing==> string is ordered so we csn perform indexing.\n",
    "Accessing individual characters in a string using their position (index). Indexes start at 0.\n",
    "\n",
    "'''\n",
    "str1 = \"Hello\"\n",
    "print(str1[0])  # Output: H\n",
    "print(str1[1])  # Output: e\n",
    "print(str1[-2]) # Output: l \n",
    "print(str1[-4]) # Output: e"
   ]
  },
  {
   "cell_type": "code",
   "execution_count": null,
   "id": "3f71a35e-e7b9-4199-a28e-424101241f50",
   "metadata": {},
   "outputs": [],
   "source": []
  },
  {
   "cell_type": "code",
   "execution_count": 299,
   "id": "9daafbd5-85be-4067-88cd-92ee024e44fa",
   "metadata": {},
   "outputs": [
    {
     "name": "stdout",
     "output_type": "stream",
     "text": [
      "13\n"
     ]
    }
   ],
   "source": [
    "\"\"\"Length\n",
    "Finding the number of characters in a string using the len() function.\n",
    "\n",
    "\"\"\"\n",
    "name = \"Vaibhav Patil\"\n",
    "print(len(name))  # Output: 12==> includes spaces & starts counting from 1."
   ]
  },
  {
   "cell_type": "code",
   "execution_count": 297,
   "id": "241be274-91dc-4701-85c3-9e259a61f5c2",
   "metadata": {},
   "outputs": [
    {
     "name": "stdout",
     "output_type": "stream",
     "text": [
      "Shubham     Chavan :- has 18 characters in it.\n"
     ]
    }
   ],
   "source": [
    "name = \"Shubham Chavan\"\n",
    "len_name = len(name)\n",
    "print(name, \":- has\", len_name, \"characters in it.\")"
   ]
  },
  {
   "cell_type": "code",
   "execution_count": 111,
   "id": "03f0fa47-18d2-42cd-9558-3cfc326985fb",
   "metadata": {},
   "outputs": [
    {
     "name": "stdout",
     "output_type": "stream",
     "text": [
      "14\n"
     ]
    }
   ],
   "source": [
    "print(len(name)) #len==> counting starts from 1 so "
   ]
  },
  {
   "cell_type": "code",
   "execution_count": 315,
   "id": "0f3f6123-2eed-4abe-b1af-c9df8544a5e1",
   "metadata": {},
   "outputs": [],
   "source": [
    "name = \"Omkar Shinde\""
   ]
  },
  {
   "cell_type": "code",
   "execution_count": 307,
   "id": "7f8447fc-2e9b-4539-acb4-2fa5be24fb32",
   "metadata": {},
   "outputs": [
    {
     "name": "stdout",
     "output_type": "stream",
     "text": [
      "Shubham C\n"
     ]
    }
   ],
   "source": [
    "print(name[0:9])  #slicing==> starts from 0 not from 1 as is in len() method."
   ]
  },
  {
   "cell_type": "code",
   "execution_count": null,
   "id": "98310741-c49d-4a11-86be-a940d6a3c0c8",
   "metadata": {},
   "outputs": [],
   "source": [
    "# [x:y]==> includes x, excludes y or y-1"
   ]
  },
  {
   "cell_type": "code",
   "execution_count": 311,
   "id": "8dc8c9e9-9a02-4304-ba16-56cfc2f78bd1",
   "metadata": {},
   "outputs": [
    {
     "name": "stdout",
     "output_type": "stream",
     "text": [
      "Shubh\n"
     ]
    }
   ],
   "source": [
    "print(name[:5]) #bydefault  python will consider it as 0"
   ]
  },
  {
   "cell_type": "code",
   "execution_count": 317,
   "id": "e3380242-1022-4823-a06c-6d5ae80ca22e",
   "metadata": {},
   "outputs": [
    {
     "name": "stdout",
     "output_type": "stream",
     "text": [
      "Omkar Shinde\n"
     ]
    }
   ],
   "source": [
    "print(name[:]) #bydefault  python will consider it as len"
   ]
  },
  {
   "cell_type": "code",
   "execution_count": 325,
   "id": "184fbb0e-8125-45a9-afe1-e15a154a00ad",
   "metadata": {},
   "outputs": [],
   "source": [
    "# Negative Slicing \n",
    "city = \"Chennai\""
   ]
  },
  {
   "cell_type": "code",
   "execution_count": 57,
   "id": "19990c93-57e8-45bc-8382-c4ad5f7545ee",
   "metadata": {},
   "outputs": [
    {
     "name": "stdout",
     "output_type": "stream",
     "text": [
      "7\n"
     ]
    }
   ],
   "source": [
    "print(len(city))"
   ]
  },
  {
   "cell_type": "code",
   "execution_count": 67,
   "id": "8fc60aec-3f2e-40e4-b1eb-cec879c76c1a",
   "metadata": {},
   "outputs": [
    {
     "name": "stdout",
     "output_type": "stream",
     "text": [
      "Chen\n"
     ]
    }
   ],
   "source": [
    "print(city[0:-3])  #len()-input "
   ]
  },
  {
   "cell_type": "code",
   "execution_count": 321,
   "id": "4a2dcb75-cc58-471d-9749-c049af0de8f3",
   "metadata": {},
   "outputs": [
    {
     "name": "stdout",
     "output_type": "stream",
     "text": [
      "\n"
     ]
    }
   ],
   "source": [
    "print(city[-2:-3])  #it wont be able to count in reverse [5:4]"
   ]
  },
  {
   "cell_type": "code",
   "execution_count": 327,
   "id": "5640c585-481e-4acd-8fe7-d57051c17000",
   "metadata": {},
   "outputs": [
    {
     "name": "stdout",
     "output_type": "stream",
     "text": [
      "en\n"
     ]
    }
   ],
   "source": [
    "print(city[-5:-3])  #will become [2:4] ==> will inculde y."
   ]
  },
  {
   "cell_type": "code",
   "execution_count": null,
   "id": "3a328739-7ca7-4317-8265-bb91fdd19674",
   "metadata": {},
   "outputs": [],
   "source": []
  },
  {
   "cell_type": "code",
   "execution_count": 329,
   "id": "9778b5ce-69c6-4ad0-a767-b32bc824d32a",
   "metadata": {},
   "outputs": [
    {
     "name": "stdout",
     "output_type": "stream",
     "text": [
      "My name is 25 and I am Vaibhav years old.\n"
     ]
    }
   ],
   "source": [
    "\"\"\" Using str.format() Method:\n",
    "\n",
    "\"\"\"\n",
    "\n",
    "name = \"Vaibhav\"\n",
    "age = 25\n",
    "print(\"My name is {} and I am {} years old.\".format(name, age))"
   ]
  },
  {
   "cell_type": "code",
   "execution_count": 101,
   "id": "f8ea7d08-d1f7-490e-9f26-963c03cbe84f",
   "metadata": {},
   "outputs": [
    {
     "name": "stdout",
     "output_type": "stream",
     "text": [
      "My name is Vaibhav and I am 25 years old.\n"
     ]
    }
   ],
   "source": [
    "print(f\"My name is {name} and I am {age} years old.\")"
   ]
  },
  {
   "cell_type": "code",
   "execution_count": null,
   "id": "f41050ca-5c37-4b03-95d4-f8a30eb2f6a2",
   "metadata": {},
   "outputs": [],
   "source": []
  },
  {
   "cell_type": "code",
   "execution_count": null,
   "id": "d8a5bec1-f65b-4535-911d-67387f7f5f79",
   "metadata": {},
   "outputs": [],
   "source": []
  },
  {
   "cell_type": "code",
   "execution_count": null,
   "id": "b042c978-1c61-439e-9d38-c923cf1c162b",
   "metadata": {},
   "outputs": [],
   "source": [
    "# commonly used string methods in Python"
   ]
  },
  {
   "cell_type": "code",
   "execution_count": 333,
   "id": "e68cc833-32ed-435e-8387-c662e58ca964",
   "metadata": {},
   "outputs": [
    {
     "name": "stdout",
     "output_type": "stream",
     "text": [
      "HELLO, WORLD !!!\n"
     ]
    }
   ],
   "source": [
    "# 1.upper(): Converts all characters in the string to uppercase.\n",
    "\n",
    "my_string = \"hello, world !!!\"\n",
    "print(my_string.upper())  # Output: HELLO, WORLD !!!"
   ]
  },
  {
   "cell_type": "code",
   "execution_count": 335,
   "id": "95750753-8c34-4636-9e09-317acf00c0f4",
   "metadata": {},
   "outputs": [
    {
     "name": "stdout",
     "output_type": "stream",
     "text": [
      "hello, world !!!\n"
     ]
    }
   ],
   "source": [
    "# 2.lower(): Converts all characters in the string to lowercase.\n",
    "\n",
    "my_string = \"HELLO, WORLD !!!\"\n",
    "print(my_string.lower())  # Output: hello, world !!!"
   ]
  },
  {
   "cell_type": "code",
   "execution_count": 337,
   "id": "e8248347-5812-4ac1-a4b6-994d431a2b64",
   "metadata": {},
   "outputs": [
    {
     "name": "stdout",
     "output_type": "stream",
     "text": [
      "Hello, World !!!\n"
     ]
    }
   ],
   "source": [
    "# 3.strip(): Removes whitespace from the beginning and end of the string.\n",
    "\n",
    "my_string = \"  Hello, World !!!  \"\n",
    "print(my_string.strip())  # Output: Hello, World !!!"
   ]
  },
  {
   "cell_type": "code",
   "execution_count": 339,
   "id": "4417cdc8-c2ef-4535-b699-afc47cbc71cf",
   "metadata": {},
   "outputs": [
    {
     "name": "stdout",
     "output_type": "stream",
     "text": [
      "Hello, World !!!  \n"
     ]
    }
   ],
   "source": [
    "# 4. lstrip(): Removes whitespace from the left side of the string.\n",
    "\n",
    "my_string = \"  Hello, World !!!  \"\n",
    "print(my_string.lstrip()) # Output:- Hello, World !!!  "
   ]
  },
  {
   "cell_type": "code",
   "execution_count": 341,
   "id": "ec99f2a6-294d-4475-b848-6e01e14b4b68",
   "metadata": {},
   "outputs": [
    {
     "name": "stdout",
     "output_type": "stream",
     "text": [
      "  Hello, World !!!\n"
     ]
    }
   ],
   "source": [
    "# 5. rstrip(): Removes whitespace from the left side of the string.\n",
    "\n",
    "my_string = \"  Hello, World !!!  \"\n",
    "print(my_string.rstrip()) # Output:-   Hello, World !!!"
   ]
  },
  {
   "cell_type": "code",
   "execution_count": null,
   "id": "ee1a613c-684a-4330-b9be-6f078725105a",
   "metadata": {},
   "outputs": [],
   "source": []
  },
  {
   "cell_type": "code",
   "execution_count": 351,
   "id": "5c54aeb9-7cdb-40f4-9c68-d136a5d5afed",
   "metadata": {},
   "outputs": [
    {
     "name": "stdout",
     "output_type": "stream",
     "text": [
      "['sanket', '@gmail', 'com']\n"
     ]
    }
   ],
   "source": [
    "# 6.split(): Splits the string into a list of substrings based on a specified delimiter.\n",
    "\n",
    "email = \"sanket.@gmail.com\"\n",
    "print(email.split(\".\"))  # Output: ['sanket', 'gmail.com']==> o/p in list"
   ]
  },
  {
   "cell_type": "code",
   "execution_count": 357,
   "id": "a81624c4-5dc3-45fa-ab8b-d25a75acab94",
   "metadata": {},
   "outputs": [
    {
     "name": "stdout",
     "output_type": "stream",
     "text": [
      "['one', 'two', 'three,four']\n"
     ]
    }
   ],
   "source": [
    "#Splitting at Exactly Two Points\n",
    "\n",
    "my_string = \"one,two,three,four\"\n",
    "parts = my_string.split(\",\", 2)  # Split at the first 2 commas\n",
    "\n",
    "print(parts)  # Output: ['one', 'two', 'three,four']"
   ]
  },
  {
   "cell_type": "code",
   "execution_count": null,
   "id": "d5c17fa4-742d-4210-a829-cc8112e318f2",
   "metadata": {},
   "outputs": [],
   "source": []
  },
  {
   "cell_type": "code",
   "execution_count": 361,
   "id": "3cd9912f-82be-4176-b6ef-92ddcbcecb87",
   "metadata": {},
   "outputs": [
    {
     "name": "stdout",
     "output_type": "stream",
     "text": [
      "Hi, I am Django !\n"
     ]
    }
   ],
   "source": [
    "# 7.replace(): Replaces a specified substring with another substring.\n",
    "\n",
    "name = \"Hi, I am Java !\"\n",
    "print(name.replace(\"Java\", \"Django\"))  # Output: Hi, I am Python !"
   ]
  },
  {
   "cell_type": "code",
   "execution_count": 365,
   "id": "8cef6ca2-e601-45c6-8772-2c851d34a6f2",
   "metadata": {},
   "outputs": [
    {
     "name": "stdout",
     "output_type": "stream",
     "text": [
      "Hi, I Lm JLvL !\n"
     ]
    }
   ],
   "source": [
    "name = \"Hi, I am Java !\"\n",
    "print(name.replace(\"a\", \"L\"))  # Output: Hi, I am Lava !"
   ]
  },
  {
   "cell_type": "code",
   "execution_count": null,
   "id": "71118f32-5c82-4945-a9b3-26229eb57e7a",
   "metadata": {},
   "outputs": [],
   "source": []
  },
  {
   "cell_type": "code",
   "execution_count": 369,
   "id": "6f2c4e05-8154-46a3-a278-a1f26bf0a29a",
   "metadata": {},
   "outputs": [
    {
     "name": "stdout",
     "output_type": "stream",
     "text": [
      "0\n"
     ]
    }
   ],
   "source": [
    "# 8.find(): Returns the lowest positive index of the substring if it is found in the string; \n",
    "#           otherwise, returns -1.\n",
    "\n",
    "\n",
    "my_string = \"Hello, World!\"\n",
    "print(my_string.find(\"Hello\"))  # Output: 7"
   ]
  },
  {
   "cell_type": "code",
   "execution_count": 182,
   "id": "ed0cead4-3fea-4e6d-ba79-d1c2584ca947",
   "metadata": {},
   "outputs": [
    {
     "name": "stdout",
     "output_type": "stream",
     "text": [
      "-1\n"
     ]
    }
   ],
   "source": [
    "my_string = \"Hello, World!\"\n",
    "print(my_string.find(\"My\"))  # Output: -1"
   ]
  },
  {
   "cell_type": "code",
   "execution_count": null,
   "id": "e3f4526f-de83-4d16-8572-7637f8601a6c",
   "metadata": {},
   "outputs": [],
   "source": []
  },
  {
   "cell_type": "code",
   "execution_count": 373,
   "id": "0cc05a8f-6a97-41a2-8fd5-ca179ded113f",
   "metadata": {},
   "outputs": [
    {
     "name": "stdout",
     "output_type": "stream",
     "text": [
      "1\n"
     ]
    }
   ],
   "source": [
    "# 9.count(): Returns the number of occurrences of a substring in the string.\n",
    "\n",
    "\n",
    "names = \"omkar, shubham, vaibhav, prasad, omkar, sachin\"\n",
    "print(names.count(\"shubham\"))  # Output: 2"
   ]
  },
  {
   "cell_type": "code",
   "execution_count": 383,
   "id": "5d5534fa-7ce3-42ec-8ad8-ed27e2648b6d",
   "metadata": {},
   "outputs": [
    {
     "name": "stdout",
     "output_type": "stream",
     "text": [
      "2\n"
     ]
    }
   ],
   "source": [
    "names = \"omkar, shubham, vaibhav, prasad, omkar, sachin\"\n",
    "print(names.count(\"o\"))  # Output: 8"
   ]
  },
  {
   "cell_type": "code",
   "execution_count": null,
   "id": "7d0e5ae6-03e4-4651-8cc9-93aae15ffe63",
   "metadata": {},
   "outputs": [],
   "source": []
  },
  {
   "cell_type": "code",
   "execution_count": 379,
   "id": "09507f7e-3fae-4047-9076-fc9eacd558b1",
   "metadata": {},
   "outputs": [
    {
     "name": "stdout",
     "output_type": "stream",
     "text": [
      "False\n"
     ]
    }
   ],
   "source": [
    "#10.startswith(): Returns True if the string starts with the specified substring; otherwise, returns False.\n",
    "\n",
    "email = \"sanket@gmail.com!\"\n",
    "print(email.startswith(\".com\"))  # Output: True"
   ]
  },
  {
   "cell_type": "code",
   "execution_count": 194,
   "id": "3872dc69-cff1-41a3-a744-8aebc9583f80",
   "metadata": {},
   "outputs": [
    {
     "name": "stdout",
     "output_type": "stream",
     "text": [
      "False\n"
     ]
    }
   ],
   "source": [
    "email = \"sanket@gmail.com!\"\n",
    "print(email.startswith(\"xyz\"))  # Output: false"
   ]
  },
  {
   "cell_type": "code",
   "execution_count": null,
   "id": "967c00f1-213e-4f69-a4e3-892b7a046d0d",
   "metadata": {},
   "outputs": [],
   "source": []
  },
  {
   "cell_type": "code",
   "execution_count": 196,
   "id": "9c97f26a-6bd1-4267-8068-61f894cec6a7",
   "metadata": {},
   "outputs": [
    {
     "name": "stdout",
     "output_type": "stream",
     "text": [
      "True\n"
     ]
    }
   ],
   "source": [
    "# 11.endswith(): Returns True if the string ends with the specified substring; otherwise, returns False.\n",
    "\n",
    "\n",
    "file = \"practice.pdf\"\n",
    "print(file.endswith(\".pdf\"))  # Output: True"
   ]
  },
  {
   "cell_type": "code",
   "execution_count": 198,
   "id": "ebc1ee9d-62f8-4a7f-a108-e271055b7bd2",
   "metadata": {},
   "outputs": [
    {
     "name": "stdout",
     "output_type": "stream",
     "text": [
      "False\n"
     ]
    }
   ],
   "source": [
    "print(file.endswith(\".csv\"))  # Output: False"
   ]
  },
  {
   "cell_type": "code",
   "execution_count": null,
   "id": "b2001e9c-024c-46f9-9e05-b4b00165a144",
   "metadata": {},
   "outputs": [],
   "source": []
  },
  {
   "cell_type": "code",
   "execution_count": 385,
   "id": "0da7231c-b696-4e93-b131-4565338714e9",
   "metadata": {},
   "outputs": [
    {
     "name": "stdout",
     "output_type": "stream",
     "text": [
      "India\n"
     ]
    }
   ],
   "source": [
    "# 12.capitalize(): Converts the first character to uppercase and the rest to lowercase.\n",
    "\n",
    "name = \"iNDIA\"\n",
    "print(name.capitalize())  # Output: Sanket"
   ]
  },
  {
   "cell_type": "code",
   "execution_count": 208,
   "id": "5eb3a5c0-d65d-4856-8ec3-d5240880008d",
   "metadata": {},
   "outputs": [
    {
     "name": "stdout",
     "output_type": "stream",
     "text": [
      "India Is My Country !!!\n"
     ]
    }
   ],
   "source": [
    "# 13. title(): Converts the first character of each word to uppercase and the rest to lowercase.\n",
    "\n",
    "\n",
    "country = \"india is my counTRY !!!\"\n",
    "print(country.title())  # India Is My Country !!!"
   ]
  },
  {
   "cell_type": "code",
   "execution_count": null,
   "id": "ebb6dae5-f05e-44d2-9fd8-075dced99b93",
   "metadata": {},
   "outputs": [],
   "source": []
  },
  {
   "cell_type": "code",
   "execution_count": 389,
   "id": "460dc7ba-c3b9-4bd5-a5cb-f40dd968d951",
   "metadata": {},
   "outputs": [
    {
     "name": "stdout",
     "output_type": "stream",
     "text": [
      "False\n"
     ]
    }
   ],
   "source": [
    "#15.isalpha(): Returns True if all characters in the string are alphabetic and \n",
    "#               there is at least one character; otherwise, returns False.\n",
    "\n",
    "\n",
    "my_string = \"\"\n",
    "print(my_string.isalpha())  # Output: True"
   ]
  },
  {
   "cell_type": "code",
   "execution_count": 391,
   "id": "a46a1f97-c1dc-48c5-aec0-c42066d61f9d",
   "metadata": {},
   "outputs": [
    {
     "name": "stdout",
     "output_type": "stream",
     "text": [
      "False\n"
     ]
    }
   ],
   "source": [
    "my_string = \"123\"\n",
    "print(my_string.isalpha())  # Output: False"
   ]
  },
  {
   "cell_type": "code",
   "execution_count": 222,
   "id": "78cb6154-b183-4c71-8139-df9521e4116d",
   "metadata": {},
   "outputs": [
    {
     "name": "stdout",
     "output_type": "stream",
     "text": [
      "False\n"
     ]
    }
   ],
   "source": [
    "my_string = \"\"\n",
    "print(my_string.isalpha())  # Output: False"
   ]
  },
  {
   "cell_type": "code",
   "execution_count": null,
   "id": "3305ba46-2970-4f2f-a0a2-4557003f1fe3",
   "metadata": {},
   "outputs": [],
   "source": []
  },
  {
   "cell_type": "code",
   "execution_count": 397,
   "id": "0f27c78a-65cf-485b-a01e-302cdcbe699e",
   "metadata": {},
   "outputs": [
    {
     "name": "stdout",
     "output_type": "stream",
     "text": [
      "True\n"
     ]
    }
   ],
   "source": [
    "# 16. isdigit(): Returns True if all characters in the string are digits and \n",
    "#                there is at least one character; otherwise, returns False.\n",
    "\n",
    "\n",
    "my_string = \"12345\"\n",
    "print(my_string.isdigit())  # Output: True"
   ]
  },
  {
   "cell_type": "code",
   "execution_count": 226,
   "id": "290648f8-24d8-4bd8-90d7-f7483aaae299",
   "metadata": {},
   "outputs": [
    {
     "name": "stdout",
     "output_type": "stream",
     "text": [
      "False\n"
     ]
    }
   ],
   "source": [
    "my_string = \"Helo12345\"\n",
    "print(my_string.isdigit())  # Output: True"
   ]
  },
  {
   "cell_type": "code",
   "execution_count": null,
   "id": "9a154084-d3e3-4c90-ab06-534f1438769d",
   "metadata": {},
   "outputs": [],
   "source": []
  },
  {
   "cell_type": "code",
   "execution_count": 399,
   "id": "0c11e764-f34f-4569-9b71-18ce0ec349ce",
   "metadata": {},
   "outputs": [
    {
     "name": "stdout",
     "output_type": "stream",
     "text": [
      "dELHI\n"
     ]
    }
   ],
   "source": [
    "# 17. swapcase():-  return a new string where all the uppercase characters are converted to lowercase \n",
    "#                   and all the lowercase characters are converted to uppercase\n",
    "\n",
    "city = \"Delhi\"\n",
    "print(city.swapcase())  #o/p==> Pune"
   ]
  },
  {
   "cell_type": "code",
   "execution_count": null,
   "id": "c0786d5a-25f5-4b7c-8a08-dae63ea7fb14",
   "metadata": {},
   "outputs": [],
   "source": []
  },
  {
   "cell_type": "code",
   "execution_count": null,
   "id": "dbc3297b-772d-4fff-bcad-ff83d977663f",
   "metadata": {},
   "outputs": [],
   "source": [
    "# 18.join():- used to concatenate the elements of an iterable (like a list or tuple) into a single string, \n",
    "#             with a specified separator string between each element. \n",
    "#             This method is particularly useful for efficiently constructing a string from multiple \n",
    "#             components."
   ]
  },
  {
   "cell_type": "code",
   "execution_count": 407,
   "id": "e9271b9e-3225-463a-9af3-4dc9345ba76e",
   "metadata": {},
   "outputs": [
    {
     "name": "stdout",
     "output_type": "stream",
     "text": [
      "Hello, world, from, Python !!!\n"
     ]
    }
   ],
   "source": [
    "words = [\"Hello\", \"world\", \"from\", \"Python !!!\"]\n",
    "sentence = \", \".join(words)\n",
    "print(sentence)     # joined with a space character."
   ]
  },
  {
   "cell_type": "code",
   "execution_count": 419,
   "id": "6797f4a2-fac3-4667-a413-fe1c7cc2518c",
   "metadata": {},
   "outputs": [
    {
     "name": "stdout",
     "output_type": "stream",
     "text": [
      "sanket@ gmail.com@ yahoo\n"
     ]
    }
   ],
   "source": [
    "items = [\"sanket\", \"gmail.com\",\"yahoo\" ]\n",
    "fruit_list = \"@ \".join(items)\n",
    "\n",
    "print(fruit_list)  # joined with a comma followed by a space."
   ]
  },
  {
   "cell_type": "code",
   "execution_count": null,
   "id": "37777aee-fe0a-4f0e-b1aa-c87c37dcf01f",
   "metadata": {},
   "outputs": [],
   "source": []
  },
  {
   "cell_type": "code",
   "execution_count": null,
   "id": "b628f810-c387-4942-9d37-38bdabb18787",
   "metadata": {},
   "outputs": [],
   "source": []
  },
  {
   "cell_type": "code",
   "execution_count": 421,
   "id": "edc723dc-36f8-487c-b4ed-e8a2032c19a6",
   "metadata": {},
   "outputs": [],
   "source": [
    "str1 ='This_IS_A_Good_Afternoon'"
   ]
  },
  {
   "cell_type": "code",
   "execution_count": null,
   "id": "f0a1ff74-75e7-47d1-a1b7-f41a2b677180",
   "metadata": {},
   "outputs": [],
   "source": [
    "result = 'tHIS.is.a.gOOD.aFTERNOON'"
   ]
  },
  {
   "cell_type": "code",
   "execution_count": 423,
   "id": "eb9e948e-4185-430c-a40c-599f037d8b66",
   "metadata": {},
   "outputs": [
    {
     "data": {
      "text/plain": [
       "'This.IS.A.Good.Afternoon'"
      ]
     },
     "execution_count": 423,
     "metadata": {},
     "output_type": "execute_result"
    }
   ],
   "source": [
    "str1.replace(\"_\",\".\")"
   ]
  },
  {
   "cell_type": "code",
   "execution_count": 425,
   "id": "e16d4d4c-e15e-419e-a421-249f3cd9a74b",
   "metadata": {},
   "outputs": [
    {
     "data": {
      "text/plain": [
       "'tHIS_is_a_gOOD_aFTERNOON'"
      ]
     },
     "execution_count": 425,
     "metadata": {},
     "output_type": "execute_result"
    }
   ],
   "source": [
    "str1.swapcase()"
   ]
  },
  {
   "cell_type": "code",
   "execution_count": null,
   "id": "5da3bd03-8030-4f09-b769-ea457f6690bd",
   "metadata": {},
   "outputs": [],
   "source": []
  },
  {
   "cell_type": "code",
   "execution_count": 445,
   "id": "5d30f4e8-f536-4ce4-9c02-d8a1ac27e612",
   "metadata": {},
   "outputs": [
    {
     "name": "stdout",
     "output_type": "stream",
     "text": [
      "tHIS.is.a.gOOD.aFTERNOON\n"
     ]
    }
   ],
   "source": [
    "str1 = 'This_IS_A_Good_Afternoon'\n",
    "#result = 'tHIS. is. a.gOOD. aFTERNOON'\n",
    "str2=\"\"\n",
    "for char in str1 :  #for loop for iteration\n",
    "    if char == '_':   #if condition to check _\n",
    "        char = '.'\n",
    "        str2=str2 + char\n",
    "    elif char.isupper():\n",
    "        str2=str2 + char.lower()\n",
    "    else:\n",
    "        str2=str2 + char.upper()\n",
    "print(str2)"
   ]
  },
  {
   "cell_type": "code",
   "execution_count": null,
   "id": "0e471c59-bc1c-44ca-92d7-ae7f52dddbf3",
   "metadata": {},
   "outputs": [],
   "source": []
  },
  {
   "cell_type": "code",
   "execution_count": null,
   "id": "1d8a698f-eb98-4d71-8f7a-0a65001f5fe4",
   "metadata": {},
   "outputs": [],
   "source": [
    "Python program to check a String is palindrome or not."
   ]
  },
  {
   "cell_type": "code",
   "execution_count": null,
   "id": "9c7eaf11-811b-4d65-9ddb-7030a38c0821",
   "metadata": {},
   "outputs": [],
   "source": [
    "\"Malayalam\""
   ]
  },
  {
   "cell_type": "code",
   "execution_count": null,
   "id": "7b8bf42c-6bcf-4433-a5d5-0f1dbe405948",
   "metadata": {},
   "outputs": [],
   "source": [
    "abccba"
   ]
  },
  {
   "cell_type": "code",
   "execution_count": null,
   "id": "dfbcf9e1-2e2e-4fae-91a0-e34a0a6dea23",
   "metadata": {},
   "outputs": [],
   "source": []
  },
  {
   "cell_type": "code",
   "execution_count": null,
   "id": "5c9d155f-5b76-43ff-bc80-c7973e8e29ea",
   "metadata": {},
   "outputs": [],
   "source": []
  },
  {
   "cell_type": "code",
   "execution_count": 477,
   "id": "ddd28987-e295-4c82-92e9-1e06e144aff5",
   "metadata": {},
   "outputs": [
    {
     "name": "stdout",
     "output_type": "stream",
     "text": [
      "abccba Is Palindrome\n"
     ]
    }
   ],
   "source": [
    "str1 = \"abccba\"\n",
    "if str1 == str1[::-1]:\n",
    "    print(str1, \"Is Palindrome\")\n",
    "else:\n",
    "    print(str1, \"is not a Palindrome\")"
   ]
  },
  {
   "cell_type": "code",
   "execution_count": null,
   "id": "e1aaaa9e-640f-4ed2-9b5e-661715e291b5",
   "metadata": {},
   "outputs": [],
   "source": []
  },
  {
   "cell_type": "code",
   "execution_count": null,
   "id": "21e274d3-b67e-4beb-a6cf-09be39318bc6",
   "metadata": {},
   "outputs": [],
   "source": [
    "Q.count the occurrence of each character in given string"
   ]
  },
  {
   "cell_type": "code",
   "execution_count": null,
   "id": "546f8ebf-4d19-426c-b1f9-a2417028a76b",
   "metadata": {},
   "outputs": [],
   "source": [
    "malyalam\n",
    "{'m':2,'a':2,'l':2}"
   ]
  },
  {
   "cell_type": "code",
   "execution_count": null,
   "id": "c26b5e7c-3389-497a-b384-a5d72cc99016",
   "metadata": {},
   "outputs": [],
   "source": [
    "str1 = \"malyalam\"\n",
    "for i:j in str1:\n",
    "    "
   ]
  },
  {
   "cell_type": "code",
   "execution_count": 485,
   "id": "a46b6a5f-de2f-4ea6-86af-5938ea73bbb9",
   "metadata": {},
   "outputs": [
    {
     "name": "stdout",
     "output_type": "stream",
     "text": [
      "{'malyalam': 1}\n"
     ]
    }
   ],
   "source": [
    "str1 = \"malyalam\"\n",
    "set = {}\n",
    "\n",
    "for key in str1.split():\n",
    "    if key in str1:\n",
    "        set[key] =+1\n",
    "    else:\n",
    "        set[key]=1\n",
    "print(set)"
   ]
  },
  {
   "cell_type": "code",
   "execution_count": 493,
   "id": "6fc532e3-fcb2-4a95-ab1e-44de4aef5881",
   "metadata": {},
   "outputs": [
    {
     "name": "stdout",
     "output_type": "stream",
     "text": [
      "{'m': 2, 'a': 3, 'l': 2, 'y': 1}\n"
     ]
    }
   ],
   "source": [
    "#Nikita Bhurale\n",
    "\n",
    "str1 = \"malyalam\"\n",
    "temp={}\n",
    "for i in str1:\n",
    "    if i in temp:\n",
    "        temp[i]+=1\n",
    "    else:\n",
    "        temp[i]=1\n",
    "print(temp)"
   ]
  },
  {
   "cell_type": "code",
   "execution_count": null,
   "id": "90c0b9d3-e74b-49f5-8f6d-f08626efa26e",
   "metadata": {},
   "outputs": [],
   "source": [
    "fruits = ['orange','mango','banana','papaya','falana','banana','orange','orange','mango','orange']\n",
    "\n",
    "o/p ==> {'orange':4, 'banana':2}"
   ]
  },
  {
   "cell_type": "code",
   "execution_count": null,
   "id": "02c407a7-18d8-4452-880a-8a911a25dd70",
   "metadata": {},
   "outputs": [],
   "source": []
  },
  {
   "cell_type": "code",
   "execution_count": 491,
   "id": "3fe4761d-3048-49f0-ab8c-bb3cb0f67572",
   "metadata": {},
   "outputs": [
    {
     "name": "stdout",
     "output_type": "stream",
     "text": [
      "{'orange': 4, 'mango': 2, 'banana': 2, 'papaya': 1, 'falana': 1}\n"
     ]
    }
   ],
   "source": [
    "str1 = ['orange','mango','banana','papaya','falana','banana','orange','orange','mango','orange']\n",
    "temp={}\n",
    "for i in str1:\n",
    "    if i in temp:\n",
    "        temp[i]+=1\n",
    "    else:\n",
    "        temp[i]=1\n",
    "print(temp)"
   ]
  },
  {
   "cell_type": "code",
   "execution_count": null,
   "id": "e80ee557-7ad2-49c1-a127-562045a8ec9a",
   "metadata": {},
   "outputs": [],
   "source": []
  },
  {
   "cell_type": "code",
   "execution_count": 499,
   "id": "3c9c3c88-1ada-4cbc-a368-e7de2c9251cd",
   "metadata": {},
   "outputs": [
    {
     "name": "stdout",
     "output_type": "stream",
     "text": [
      "['m', 'a', 'l', 'y', 'a', 'l', 'a', 'm']\n"
     ]
    }
   ],
   "source": [
    "str1 = \"malyalam\"\n",
    "list1 = []\n",
    "for i in str1:\n",
    "    list1.append(i)\n",
    "print(list1)"
   ]
  },
  {
   "cell_type": "code",
   "execution_count": null,
   "id": "5a089842-b776-4656-ba5a-f0986218bfd6",
   "metadata": {},
   "outputs": [],
   "source": []
  },
  {
   "cell_type": "code",
   "execution_count": null,
   "id": "43c7dbad-74d7-4a53-97de-95909b61b2f5",
   "metadata": {},
   "outputs": [],
   "source": [
    "Q.Write a program to find the number of vowels, consonants, \n",
    "digits, and white space characters in a string."
   ]
  },
  {
   "cell_type": "code",
   "execution_count": null,
   "id": "fed4f6b9-4056-4cc8-8394-bc3a6040aacd",
   "metadata": {},
   "outputs": [],
   "source": []
  },
  {
   "cell_type": "code",
   "execution_count": 501,
   "id": "3b8b8c89-decb-4285-b533-ab1bb2068fcd",
   "metadata": {},
   "outputs": [],
   "source": [
    "str1 = \"\"\"In Python, strings are used for representing textual data. \n",
    "A string is a sequence of characters enclosed in either single quotes (‘’) or double quotes (“”). \n",
    "The Python language provides various built-in methods and functionalities to work with strings efficiently.\n",
    "In this article, we will explore some of the commonly used string operations and capabilities in Python.\"\"\""
   ]
  },
  {
   "cell_type": "code",
   "execution_count": null,
   "id": "96c7da18-d3df-4057-9462-7ce57b535f74",
   "metadata": {},
   "outputs": [],
   "source": []
  },
  {
   "cell_type": "code",
   "execution_count": null,
   "id": "104224b9-3185-4f0b-b0fa-096c556a8d5a",
   "metadata": {},
   "outputs": [],
   "source": [
    "num = \"12345\"\n",
    "str = \"aeiou AEIOU\"\n",
    "emp_spa = \"   \"\n",
    "consonants = \"WORK work\""
   ]
  },
  {
   "cell_type": "code",
   "execution_count": null,
   "id": "912a8b14-3ea1-4ce9-a38e-e91e44ecf527",
   "metadata": {},
   "outputs": [],
   "source": [
    "str2 = \"1254fdje heiodjkd juiyhid 25469sdkhion auudhe\"\n",
    "\n",
    "num = \"1234567890\" \n",
    "vowels = \"aeiouAEIOU\"\n",
    "\n",
    "\n",
    "for char in str2:\n",
    "    if char.isnumeric():\n",
    "        num+=1\n",
    "    elif char"
   ]
  },
  {
   "cell_type": "code",
   "execution_count": null,
   "id": "7c9c1e29-9b54-4127-8f3c-9abb5a577439",
   "metadata": {},
   "outputs": [],
   "source": []
  },
  {
   "cell_type": "code",
   "execution_count": null,
   "id": "1357cccb-9101-4edf-9403-165185622aca",
   "metadata": {},
   "outputs": [],
   "source": [
    "#sonali bhusal ==>create flowchart of this code \n",
    "\n",
    "def countCharacterType(str): \n",
    "   \n",
    "vowels = 0\n",
    "consonant = 0\n",
    "specialChar = 0\n",
    "digit = 0\n",
    "\n",
    "\n",
    "for i in range(0, len(str)):\n",
    "    ch = str[i]\n",
    "if  ((ch >= 'a' and ch <= 'z') or \n",
    "    (ch >= 'A' and ch <= 'Z')):  \n",
    "            ch = ch.lower()\n",
    "    \n",
    "elif (ch == 'a' or ch == 'e' or ch == 'i' or \n",
    "   (ch == 'o' or ch == 'u'): \n",
    "                vowels += 1\n",
    "            else: \n",
    "                consonant += 1\n",
    "          \n",
    "        elif (ch >= '0' and ch <= '9'): \n",
    "            digit += 1\n",
    "        else: \n",
    "            specialChar += 1\n",
    "      \n",
    "    print(\"Vowels:\", vowels) \n",
    "    print(\"Consonant:\", consonant)  \n",
    "    print(\"Digit:\", digit)  \n",
    "    print(\"Special Character:\", specialChar)  \n",
    "  \n",
    " str = \"geeks for geeks121\"\n",
    " countCharacterType(str)\n"
   ]
  },
  {
   "cell_type": "code",
   "execution_count": null,
   "id": "963afae8-85d1-49c7-b1c3-faec461b8033",
   "metadata": {},
   "outputs": [],
   "source": []
  },
  {
   "cell_type": "code",
   "execution_count": null,
   "id": "cf5a394a-af47-4696-9a2a-54625ce1d9ea",
   "metadata": {},
   "outputs": [],
   "source": [
    "Q.Check whether anagrams or not==> count and char should be same e.g==>listen = silent"
   ]
  },
  {
   "cell_type": "code",
   "execution_count": null,
   "id": "4a49cf4d-7bc6-44fb-b317-50a48fed9b03",
   "metadata": {},
   "outputs": [],
   "source": [
    "pepper & reeper==> not a anagram"
   ]
  },
  {
   "cell_type": "code",
   "execution_count": null,
   "id": "59d6568a-450c-4087-9b7b-1406d79fa7bf",
   "metadata": {},
   "outputs": [],
   "source": [
    "#Aditi Sapate\n",
    "\n",
    "name1 = input()\n",
    "name2 = input()\n",
    "if len(name1)!= len(name2):\n",
    "    print(\"string is not an anagram\")\n",
    "else:\n",
    "    sorted_string1 = sorted(name1.lower())\n",
    "    sorted_string2 = sorted(name2.lower())\n",
    "    if sorted_string1 == sorted_string2:\n",
    "        print(\"This string are anagram\")\n",
    "    else:\n",
    "        print(\"This string is not anagram\")"
   ]
  },
  {
   "cell_type": "code",
   "execution_count": null,
   "id": "e905e2cd-2afb-40ad-8cba-e28723d247da",
   "metadata": {},
   "outputs": [],
   "source": []
  },
  {
   "cell_type": "code",
   "execution_count": null,
   "id": "3063b7ba-89fb-4792-8b58-431bf8371264",
   "metadata": {},
   "outputs": [],
   "source": []
  },
  {
   "cell_type": "code",
   "execution_count": null,
   "id": "a05a7ed5-5c08-487c-a343-7a641f97bf30",
   "metadata": {},
   "outputs": [],
   "source": []
  },
  {
   "cell_type": "code",
   "execution_count": null,
   "id": "4562ac8a-1e09-464e-b565-546bee287b41",
   "metadata": {},
   "outputs": [],
   "source": []
  },
  {
   "cell_type": "code",
   "execution_count": null,
   "id": "0774a33a-39fe-4e1e-a2ae-9ebae804050f",
   "metadata": {},
   "outputs": [],
   "source": [
    "Q2.str1 = \"   Hello World   \"  # strip without using inbuit method."
   ]
  },
  {
   "cell_type": "code",
   "execution_count": null,
   "id": "36b59f85-2a36-4913-89da-69e477828086",
   "metadata": {},
   "outputs": [],
   "source": [
    "Q.3==> name = \"Sanket\"\n",
    "\"S\",\"a\",\"n\",\"k\",\"e\",\"t\""
   ]
  },
  {
   "cell_type": "code",
   "execution_count": null,
   "id": "44702328-fd74-4876-9604-4b241b971c17",
   "metadata": {},
   "outputs": [],
   "source": []
  },
  {
   "cell_type": "code",
   "execution_count": null,
   "id": "0863f9b0-1d77-4163-937d-feade9991108",
   "metadata": {},
   "outputs": [],
   "source": [
    "######################Python Coding Questions on String###########################\n",
    "Python program to remove given character from String.\n",
    "Python Program to count occurrence of a given characters in string.\n",
    "Python Program to check if two Strings are Anagram.\n",
    "Python program to check a String is palindrome or not.\n",
    "Python program to check given character is vowel or consonant.\n",
    "Python program to check given character is digit or not.\n",
    "Python program to check given character is digit or not using isdigit() method.\n",
    "Python program to replace the string space with a given character.\n",
    "Python program to replace the string space with a given character using replace() method.\n",
    "Python program to convert lowercase char to uppercase of string.\n",
    "Python program to convert lowercase vowel to uppercase in string.\n",
    "Python program to delete vowels in a given string.\n",
    "Python program to count the Occurrence Of Vowels & Consonants in a String.\n",
    "Python program to print the highest frequency character in a String.\n",
    "Python program to Replace First Occurrence Of Vowel With ‘-‘ in String.\n",
    "Python program to count alphabets, digits and special characters.\n",
    "Python program to separate characters in a given string.\n",
    "Python program to remove blank space from string.\n",
    "Python program to concatenate two strings using join() method.\n",
    "Python program to concatenate two strings without using join() method.\n",
    "Python program to remove repeated character from string.\n",
    "Python program to calculate sum of integers in string.\n",
    "Python program to print all non repeating character in string.\n",
    "Python program to copy one string to another string.\n",
    "Python Program to sort characters of string in ascending order.\n",
    "Python Program to sort character of string in descending order."
   ]
  },
  {
   "cell_type": "code",
   "execution_count": null,
   "id": "35b00578-c6ac-426a-87c5-c0f10937e74e",
   "metadata": {},
   "outputs": [],
   "source": []
  },
  {
   "cell_type": "code",
   "execution_count": null,
   "id": "82e41365-71d8-44cf-8639-74e488f2f8db",
   "metadata": {},
   "outputs": [],
   "source": [
    "Questions:-\n",
    "\n",
    "Which are the different ways to perform string formatting? Explain with example.\n",
    "Write a program to print every character of a string entered by the user in a new \n",
    "line using a loop\n",
    "Write a program to find the length of the string \"machine learning\" with and without \n",
    "using len function.\n",
    "Write a program to check if the word 'orange' is present in the \"This is orange juice\".\n",
    "Write a program to find the number of vowels, consonants, digits, and white space characters\n",
    "in a string.\n",
    "Write a Python program to count Uppercase, Lowercase, special character, and numeric \n",
    "values in a given string.\n",
    "Write a program to make a new string with all the consonants deleted from the string \n",
    "\"Hello, have a good day\".\n",
    "Write a Python program to remove the nth index character from a non-empty string.\n",
    "Write a Python program to change a given string to a new string where the first and \n",
    "last characters have been exchanged.\n",
    "Write a Python program to count the occurrences of each word in a given sentence.\n",
    "How do you count the occurrence of a given character in a string?\n",
    "Write a program to find last 10 characters of a string?\n",
    "WAP to convert a given string to all uppercase if it contains at least 2 uppercase \n",
    "characters in the first 4 characters.\n",
    "    Write a Python program to swap commas and dots in a string\n",
    "Sample string: \"32.054,23\"\n",
    "Expected Output: \"32,054.23\"\n",
    "Write a Python program to find the first repeated character in a given string\n",
    "Write a Python program to find the second most repeated word in a given string\n",
    "Python program to Count Even and Odd numbers in a string\n",
    "How do you check if a string contains only digits?\n",
    "How do you remove a given character/word from String?\n",
    "Write a Python program to remove the characters which have odd index values of a given string\n",
    "Write a Python function to reverses a string if its length is a multiple of 5\n",
    "Write a Python program to format a number with a percentage (0.05 >> 5%)\n",
    "Write a Python program to reverse words in a string\n",
    "Write a Python program to swap cases of a given string\n",
    "Write a Python program to remove spaces from a given string\n",
    "Write a Python program to remove duplicate characters of a given string\n",
    "\n"
   ]
  },
  {
   "cell_type": "code",
   "execution_count": null,
   "id": "8d57560c-d15a-422d-912d-6f2bedbc61f2",
   "metadata": {},
   "outputs": [],
   "source": []
  },
  {
   "cell_type": "code",
   "execution_count": null,
   "id": "c50b22a2-f834-4ff4-8e1e-b7b9e79122f8",
   "metadata": {},
   "outputs": [],
   "source": []
  },
  {
   "cell_type": "code",
   "execution_count": null,
   "id": "e3f90381-746c-4fac-8c29-0fd5ae321e2c",
   "metadata": {},
   "outputs": [],
   "source": []
  },
  {
   "cell_type": "code",
   "execution_count": null,
   "id": "c95faea8-94b6-4bdb-960c-8e9c4dab34e9",
   "metadata": {},
   "outputs": [],
   "source": []
  },
  {
   "cell_type": "code",
   "execution_count": null,
   "id": "faf8e021-dd75-417a-a7e5-44f38572ad02",
   "metadata": {},
   "outputs": [],
   "source": []
  },
  {
   "cell_type": "code",
   "execution_count": null,
   "id": "f844d55f-c1de-4771-9d3f-fc84f366364b",
   "metadata": {},
   "outputs": [],
   "source": []
  },
  {
   "cell_type": "code",
   "execution_count": null,
   "id": "5eb8af43-4812-461e-b0f8-13a507803e6f",
   "metadata": {},
   "outputs": [],
   "source": []
  },
  {
   "cell_type": "code",
   "execution_count": null,
   "id": "37639662-911e-4d71-8418-f6a48e18d741",
   "metadata": {},
   "outputs": [],
   "source": []
  },
  {
   "cell_type": "code",
   "execution_count": null,
   "id": "6430d007-5a61-48a8-8e17-9f5bda0e0fab",
   "metadata": {},
   "outputs": [],
   "source": []
  },
  {
   "cell_type": "code",
   "execution_count": null,
   "id": "2ad1a88f-9f8c-43e1-8559-993814681625",
   "metadata": {},
   "outputs": [],
   "source": []
  },
  {
   "cell_type": "code",
   "execution_count": null,
   "id": "1a252f2b-0e2b-4360-a262-c8407f983b26",
   "metadata": {},
   "outputs": [],
   "source": []
  },
  {
   "cell_type": "code",
   "execution_count": null,
   "id": "99df2fe7-b1cf-495a-85cc-1dec45c218ce",
   "metadata": {},
   "outputs": [],
   "source": []
  },
  {
   "cell_type": "code",
   "execution_count": null,
   "id": "8b25e5b4-3546-4028-ad01-00532ca2f1b9",
   "metadata": {},
   "outputs": [],
   "source": []
  },
  {
   "cell_type": "code",
   "execution_count": null,
   "id": "3a7d0447-0744-42c0-902a-fe6bc3a47d9d",
   "metadata": {},
   "outputs": [],
   "source": []
  },
  {
   "cell_type": "code",
   "execution_count": null,
   "id": "c56c3dc4-baaf-4366-903e-f020e072adff",
   "metadata": {},
   "outputs": [],
   "source": []
  },
  {
   "cell_type": "code",
   "execution_count": null,
   "id": "47849f25-9e20-4e4d-81fd-a11b7f7245aa",
   "metadata": {},
   "outputs": [],
   "source": []
  },
  {
   "cell_type": "code",
   "execution_count": null,
   "id": "1ee10fb4-a98f-416f-9d4d-f86e86896dcc",
   "metadata": {},
   "outputs": [],
   "source": []
  },
  {
   "cell_type": "code",
   "execution_count": null,
   "id": "ff744c02-a651-4fed-b765-00426c5cabf2",
   "metadata": {},
   "outputs": [],
   "source": []
  }
 ],
 "metadata": {
  "kernelspec": {
   "display_name": "Python 3 (ipykernel)",
   "language": "python",
   "name": "python3"
  },
  "language_info": {
   "codemirror_mode": {
    "name": "ipython",
    "version": 3
   },
   "file_extension": ".py",
   "mimetype": "text/x-python",
   "name": "python",
   "nbconvert_exporter": "python",
   "pygments_lexer": "ipython3",
   "version": "3.11.7"
  }
 },
 "nbformat": 4,
 "nbformat_minor": 5
}
