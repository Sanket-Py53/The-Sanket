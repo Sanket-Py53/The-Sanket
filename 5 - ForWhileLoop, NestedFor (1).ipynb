{
 "cells": [
  {
   "cell_type": "markdown",
   "metadata": {
    "id": "gcJPT55wmOwv"
   },
   "source": [
    "**LOOPs IN PYTHON**\n",
    "\n",
    "Loop means repetition ​\n",
    "\n",
    "Repetitive statements in a code can be executed inside a loop​\n",
    "\n",
    "Loops are used to repeat the same code multiple times​\n",
    "\n",
    "Copying and pasting the same code over and over to run it multiple times is not logical​\n",
    "\n",
    "Instead, you can create a loop that contains set of statements you want to execute multiple times​\n",
    "\n",
    "**There are two types of loop in Python​:**\n",
    "\n",
    "For loop​\n",
    "\n",
    "While loop​\n"
   ]
  },
  {
   "cell_type": "markdown",
   "metadata": {
    "id": "PHr-fMqN7JkQ"
   },
   "source": [
    "**for loop in Python​**\n",
    "\n",
    "for loop in Python, is used to iterate over a sequence such as a string and other collections​\n",
    "\n",
    "We can also iterate other iterable objects such as range​\n",
    "\n",
    "Using for loop, we can iterate over each item/element present in the sequence​\n",
    "\n",
    "Also, we can execute the same set of operations for each item​\n",
    "\n",
    "for loop in Python is also useful to automate repeated # Do This efficiently​\n",
    "\n",
    "Using for loop we can repeat the block of statements a fixed number of times​\n",
    "\n",
    "**Syntax:**\n",
    "\n",
    "      for i in range/sequence:​\n",
    "\n",
    "          statement 1​\n",
    "\n",
    "          statement 2​\n",
    "\n",
    "          statement n​\n",
    "\n",
    "**Points to remember:​**\n",
    "\n",
    "i is the iterating variable​\n",
    "\n",
    "The range specifies how many times the loop should execute​\n",
    "\n",
    "For example, if a string contains 10 letters, then for loop will execute 10 times to print each letter​\n",
    "\n",
    "In each iteration of the loop, the iterating variable i gets the current value​"
   ]
  },
  {
   "cell_type": "code",
   "execution_count": 2,
   "metadata": {
    "colab": {
     "base_uri": "https://localhost:8080/"
    },
    "id": "5M6nrDQAmPCV",
    "outputId": "4e25c778-d2af-4e96-95d3-0f156fe6eb7e"
   },
   "outputs": [
    {
     "name": "stdout",
     "output_type": "stream",
     "text": [
      "C Z E C H O S L O V A K I A "
     ]
    }
   ],
   "source": [
    "# display each letter of the country on the new line\n",
    "\n",
    "country = 'CZECHOSLOVAKIA'\n",
    "\n",
    "for ch in country:\n",
    "    print(ch, end=' ')\n"
   ]
  },
  {
   "cell_type": "code",
   "execution_count": 4,
   "metadata": {},
   "outputs": [
    {
     "name": "stdout",
     "output_type": "stream",
     "text": [
      "count of the occurance of A,B,C: 4\n"
     ]
    }
   ],
   "source": [
    "country = 'CZECHOSLOVAKIA'\n",
    "count = 0\n",
    "\n",
    "# count the occurance of A,B,C\n",
    "for ch in country:\n",
    "    if ch in ['A','B','C']:\n",
    "        count += 1\n",
    "\n",
    "print(f\"count of the occurance of A,B,C: {count}\")"
   ]
  },
  {
   "cell_type": "code",
   "execution_count": 5,
   "metadata": {
    "colab": {
     "base_uri": "https://localhost:8080/"
    },
    "id": "ESIKylZ9Aj0_",
    "outputId": "d03fabda-6054-43e8-a71a-c1750dba7ed6"
   },
   "outputs": [
    {
     "name": "stdout",
     "output_type": "stream",
     "text": [
      "red\n",
      "green\n",
      "blue\n",
      "yellow\n",
      "purple\n",
      "gold\n"
     ]
    }
   ],
   "source": [
    "# display list elements\n",
    "\n",
    "colorList = ['red', 'green', 'blue', 'yellow', 'purple', 'gold']\n",
    "\n",
    "for i in colorList:\n",
    "    print(i)\n"
   ]
  },
  {
   "cell_type": "code",
   "execution_count": 6,
   "metadata": {},
   "outputs": [
    {
     "name": "stdout",
     "output_type": "stream",
     "text": [
      "4\t16\t64\n",
      "2\t4\t8\n",
      "6\t36\t216\n",
      "9\t81\t729\n",
      "8\t64\t512\n",
      "1\t1\t1\n",
      "2\t4\t8\n",
      "7\t49\t343\n"
     ]
    }
   ],
   "source": [
    "# display square and cube of list elements\n",
    "'''\n",
    "list1 = [4,2,6,9,8,1,2,7]\n",
    "\n",
    "Sample Output:\n",
    "4   16   64\n",
    "2   4    8\n",
    "6   36   216\n",
    "9   81   729\n",
    "8   64   512\n",
    "1   1    1\n",
    "2   4    8\n",
    "7   49   343\n",
    "'''\n",
    "list1 = [4,2,6,9,8,1,2,7]\n",
    "\n",
    "for i in list1:\n",
    "    print(f\"{i}\\t{i**2}\\t{i**3}\")\n"
   ]
  },
  {
   "cell_type": "markdown",
   "metadata": {
    "id": "w1f63NaGmPSL"
   },
   "source": [
    "**range() function**\n",
    "\n",
    "- We can generate a sequence of numbers using range() function\n",
    "- range(10) will generate numbers from 0 to 9 (10 numbers)\n",
    "\n",
    "\n",
    "**Syntax:**\n",
    "\n",
    "- range(start, stop, step)\n",
    "- start: the sequence of integers starts with this integer\n",
    "\n",
    "- stop: the sequence of integers stops with this integer. The range of integers end at stop–1\n",
    "- step: integer value which determines the increment between each integer in the sequence\n",
    "\n",
    "\n",
    "**There are three ways you can call range():**\n",
    "- range(stop) takes one argument\n",
    "- range(start, stop) takes two arguments\n",
    "- range(start, stop, step) takes three arguments"
   ]
  },
  {
   "cell_type": "code",
   "execution_count": 7,
   "metadata": {
    "colab": {
     "base_uri": "https://localhost:8080/"
    },
    "id": "avH30NkQmPiq",
    "outputId": "f79920a8-0e1e-4d81-988f-2f6725c42a34"
   },
   "outputs": [
    {
     "name": "stdout",
     "output_type": "stream",
     "text": [
      "0 1 2 3 4 5 6 7 8 9 "
     ]
    }
   ],
   "source": [
    "# Print numbers from 0 to 9\n",
    "\n",
    "for i in range(10):\n",
    "    print(i,end = ' ')\n"
   ]
  },
  {
   "cell_type": "code",
   "execution_count": 8,
   "metadata": {
    "colab": {
     "base_uri": "https://localhost:8080/"
    },
    "id": "Vu2rtfYyBTu6",
    "outputId": "89f33bfb-3fda-4a88-b13c-68e1240aea9d"
   },
   "outputs": [
    {
     "name": "stdout",
     "output_type": "stream",
     "text": [
      "1 2 3 4 5 6 7 8 9 10 "
     ]
    }
   ],
   "source": [
    "# Print numbers on the same line separating with a space\n",
    "\n",
    "# Sample output:   1 2 3 4 5 6 7 8 9 10\n",
    "\n",
    "for i in range(1,11):\n",
    "    print(i,end = ' ')\n"
   ]
  },
  {
   "cell_type": "code",
   "execution_count": null,
   "metadata": {
    "id": "7wvvmk2jBT9_"
   },
   "outputs": [],
   "source": [
    "# Exercise Questions\n",
    "\n",
    "#1.  Print numbers on the same line separating with ' * ' (space asterisk space)\n",
    "\n",
    "# Sample Output: 0 * 1 * 2 * 3 * 4 * 5 * 6 * 7 * 8 * 9 *\n",
    "\n",
    "#2. Calculate the sum of all numbers from 1 to a given number\n",
    "\n",
    "#3. Accept a number. Display it's table.\n"
   ]
  },
  {
   "cell_type": "code",
   "execution_count": null,
   "metadata": {
    "colab": {
     "base_uri": "https://localhost:8080/"
    },
    "id": "aYBDU_FNBUIo",
    "outputId": "1d777a81-fe5e-4761-a5cd-48a90d3049ce"
   },
   "outputs": [],
   "source": []
  },
  {
   "cell_type": "markdown",
   "metadata": {
    "id": "0UvORwtJmPy1"
   },
   "source": [
    "**range() function with multiple arguments​**"
   ]
  },
  {
   "cell_type": "code",
   "execution_count": null,
   "metadata": {
    "id": "70OhFOGbmQEA"
   },
   "outputs": [],
   "source": [
    "# range(start, stop, step)"
   ]
  },
  {
   "cell_type": "code",
   "execution_count": 9,
   "metadata": {
    "colab": {
     "base_uri": "https://localhost:8080/"
    },
    "id": "GLfPZ-QLQfXG",
    "outputId": "c0448e68-47aa-47d5-950c-5da0854d315b"
   },
   "outputs": [
    {
     "name": "stdout",
     "output_type": "stream",
     "text": [
      "50 52 54 56 58 60 "
     ]
    }
   ],
   "source": [
    "# 50 52 54 56 58 60\n",
    "\n",
    "for i in range(50,61,2):\n",
    "    print(i,end = ' ')\n"
   ]
  },
  {
   "cell_type": "code",
   "execution_count": 10,
   "metadata": {},
   "outputs": [
    {
     "name": "stdout",
     "output_type": "stream",
     "text": [
      "10 20 30 40 50 60 70 80 90 100 "
     ]
    }
   ],
   "source": [
    "# 10, 20, 30, ...., 100\n",
    "\n",
    "for i in range(10,101,10):\n",
    "    print(i,end = ' ')\n"
   ]
  },
  {
   "cell_type": "code",
   "execution_count": null,
   "metadata": {
    "colab": {
     "base_uri": "https://localhost:8080/"
    },
    "id": "1lvKPJscQfg9",
    "outputId": "95e89a72-532a-47a0-dc80-e0e270a38023"
   },
   "outputs": [],
   "source": []
  },
  {
   "cell_type": "markdown",
   "metadata": {
    "id": "Tz-7Yj5_qoKF"
   },
   "source": [
    "**range() with negative step value​**\n",
    "\n",
    "We can reverse the loop using step as negative value\n",
    "\n",
    "Make sure to give start as bigger number than stop"
   ]
  },
  {
   "cell_type": "code",
   "execution_count": 11,
   "metadata": {
    "colab": {
     "base_uri": "https://localhost:8080/"
    },
    "id": "C0m69Y13QfkL",
    "outputId": "55b9f336-92ab-4259-936c-01603e801690"
   },
   "outputs": [
    {
     "name": "stdout",
     "output_type": "stream",
     "text": [
      "10 9 8 7 6 5 4 3 2 1 "
     ]
    }
   ],
   "source": [
    "# range(start, stop, -step)\n",
    "\n",
    "# Display sequence of numbers:-   10 9 8 7 6 5 4 3 2 1 \n",
    "\n",
    "for i in range(10, 0, -1):\n",
    "    print(i,end = ' ')\n"
   ]
  },
  {
   "cell_type": "markdown",
   "metadata": {
    "id": "gtcG4cKrmQUV"
   },
   "source": [
    "**Exercise Questions**"
   ]
  },
  {
   "cell_type": "code",
   "execution_count": null,
   "metadata": {
    "id": "k4EMciYSmQqB"
   },
   "outputs": [],
   "source": [
    "'''\n",
    "1. Write a program to  write all the even numbers between 1 and 20\n",
    "\n",
    "2. Write a program to  prompt user to enter their name, print all letters of the name.\n",
    "Add new loop in the code and print all the letters of the name with \"***\" in between\n",
    "\n",
    "Sample Output:-\n",
    "\n",
    "Enter your name: Amit S\n",
    "A\n",
    "m\n",
    "i\n",
    "t\n",
    "\n",
    "S\n",
    "A***m***i***T ***S***\n",
    "\n",
    "'''"
   ]
  },
  {
   "cell_type": "code",
   "execution_count": 14,
   "metadata": {
    "colab": {
     "base_uri": "https://localhost:8080/"
    },
    "id": "-Q1pXZeJdQet",
    "outputId": "af558e34-4fe6-4b38-b86a-9e4f961f7754"
   },
   "outputs": [
    {
     "name": "stdout",
     "output_type": "stream",
     "text": [
      "Enter a number: 5\n",
      "Factorial of 5 if 120\n"
     ]
    }
   ],
   "source": [
    "#  5! = 5*4*3*2*1\n",
    "# 12! = 12*11*10*.....*1\n",
    "\n",
    "# Find factorial of an entered number\n",
    "\n",
    "num = int(input('Enter a number: '))\n",
    "fact = 1\n",
    "\n",
    "for i in range(1,num+1):\n",
    "    fact *= i\n",
    "\n",
    "print(f\"Factorial of {num} if {fact}\")"
   ]
  },
  {
   "cell_type": "code",
   "execution_count": 15,
   "metadata": {
    "colab": {
     "base_uri": "https://localhost:8080/"
    },
    "id": "UzwyiDR7eaW5",
    "outputId": "b92ad992-df8a-42ba-fad1-8f3c651d5826"
   },
   "outputs": [
    {
     "name": "stdout",
     "output_type": "stream",
     "text": [
      "24 32 40 48 56 64 72 80 88 96 "
     ]
    }
   ],
   "source": [
    "# Display multiples of 8 from 20 to 100\n",
    "\n",
    "# Sample Output: 24 32 40 48 56 64 72 80 88 96\n",
    "\n",
    "for i in range(20,101):\n",
    "    if i%8 == 0:\n",
    "        print(i, end=' ')\n"
   ]
  },
  {
   "cell_type": "code",
   "execution_count": 17,
   "metadata": {},
   "outputs": [
    {
     "name": "stdout",
     "output_type": "stream",
     "text": [
      "How many elements u want in the series: 5\n",
      "[0, 1, 1]\n",
      "[0, 1, 1, 2]\n",
      "[0, 1, 1, 2, 3]\n"
     ]
    }
   ],
   "source": [
    "# WAP to print the first n elements of fibbonacci series\n",
    "'''\n",
    "Sample Output:\n",
    "How many elements u want in the series: 10\n",
    "[0, 1, 1, 2, 3, 5, 8, 13, 21, 34]\n",
    "'''\n",
    "num = int(input('How many elements u want in the series: '))\n",
    "fib = [0, 1]\n",
    "\n",
    "for i in range(num-2):\n",
    "    fib.append( fib[-1] + fib[-2] )\n",
    "    print(fib)\n"
   ]
  },
  {
   "cell_type": "markdown",
   "metadata": {},
   "source": [
    "### Password Project"
   ]
  },
  {
   "cell_type": "markdown",
   "metadata": {},
   "source": [
    "##### What is password generator in Python?\n",
    "\n",
    "- Password generator is a Random Password generating program\n",
    "- It generates a password which is a mix of uppercase, lowercase letters, numbers and symbols\n",
    "- It should be strong enough to provides great security\n"
   ]
  },
  {
   "cell_type": "raw",
   "metadata": {},
   "source": [
    "Create a password having length of 20 characters.\n",
    "Your password must be a combination of digits, symbols, uppercase and lowercase letters.\n",
    "Your password should start with a symbol  \"_\"."
   ]
  },
  {
   "cell_type": "code",
   "execution_count": 18,
   "metadata": {},
   "outputs": [
    {
     "name": "stdout",
     "output_type": "stream",
     "text": [
      "_yM!5U&*RwW7aMlq5&ZS length is 20!\n"
     ]
    }
   ],
   "source": [
    "# Password Project\n",
    "\n",
    "import random\n",
    "\n",
    "# max length of the password\n",
    "maxlen = 20\n",
    "\n",
    "lower = ['a','b','c','q','w','y','h','x','n','l']\n",
    "upper = ['W','R','K','S','V','X','Z','M','R','T','U']\n",
    "symbols = ['#','&','*','+','!','?']\n",
    "numbers = ['0','1','2','5','7','8','9']\n",
    "\n",
    "# combine all the above list together\n",
    "combineList = lower + upper + symbols + numbers\n",
    "\n",
    "# generate 4 letters\n",
    "rlower = random.choice(lower)\n",
    "rupper = random.choice(upper)\n",
    "rsymbol = random.choice(symbols)\n",
    "rnumber = random.choice(numbers)\n",
    "\n",
    "# create a password variable\n",
    "pwd = rlower + rupper + rsymbol + rnumber\n",
    "\n",
    "# lets write a loop to generate remaining letters of the password\n",
    "for i in range(maxlen-5):\n",
    "    pwd = pwd + random.choice(combineList)\n",
    "\n",
    "# start the password with an underscore letter\n",
    "pwd = '_' + pwd\n",
    "\n",
    "# display password\n",
    "print(f\"{pwd} length is {len(pwd)}!\")"
   ]
  },
  {
   "cell_type": "markdown",
   "metadata": {},
   "source": [
    "### Homework"
   ]
  },
  {
   "cell_type": "raw",
   "metadata": {},
   "source": [
    "Create a password having length of  50 characters.\n",
    "Your password must have the following,\n",
    "5 random digits, 5 random special symbols & 5 random lowercase alphabets.\n",
    "\n",
    "Finally create a password having combination of digits, symbols, uppercase & lowercase letters.\n",
    "Your password should start with a symbol  \"$\".\n"
   ]
  },
  {
   "cell_type": "code",
   "execution_count": null,
   "metadata": {},
   "outputs": [],
   "source": []
  },
  {
   "cell_type": "markdown",
   "metadata": {
    "id": "Cfkz3m9FmQ5J"
   },
   "source": [
    "**zip() function**\n",
    "\n",
    "- The zip() function in python is an in-built function\n",
    "\n",
    "- It takes any number of iterables(list, str, etc.) as an argument\n",
    "\n",
    "- The zip() function returns a zip object\n",
    "- A zip object is an iterator of tuples where the first item in each passed iterator is paired together, and then the second item and so on.\n",
    "\n",
    "- It stops when the shortest iterable is exhausted and the elements in longer iterables are left out.\n",
    "\n",
    "- syntax:  \n",
    "  \n",
    "  - zip(iterable1, iterable2, ...)\n",
    "\n",
    "  - Note: you can iterate the zip object using a for loop\n",
    "  \n",
    "**Observe the given code**"
   ]
  },
  {
   "cell_type": "code",
   "execution_count": 19,
   "metadata": {
    "colab": {
     "base_uri": "https://localhost:8080/"
    },
    "id": "prHhZcMMmRI-",
    "outputId": "df85b13d-4ea5-40ea-9489-147af7578890"
   },
   "outputs": [
    {
     "data": {
      "text/plain": [
       "<zip at 0x12df4aa42c0>"
      ]
     },
     "execution_count": 19,
     "metadata": {},
     "output_type": "execute_result"
    }
   ],
   "source": [
    "# Combine the given list objects\n",
    "\n",
    "fruits = [\"apple\", \"banana\", \"cherry\", \"Mango\"]\n",
    "stock = [40, 20, 25, 50, 100]\n",
    "\n",
    "zipObj = zip(fruits, stock)\n",
    "\n",
    "zipObj"
   ]
  },
  {
   "cell_type": "code",
   "execution_count": 20,
   "metadata": {},
   "outputs": [
    {
     "name": "stdout",
     "output_type": "stream",
     "text": [
      "('apple', 40)\n",
      "('banana', 20)\n",
      "('cherry', 25)\n",
      "('Mango', 50)\n"
     ]
    }
   ],
   "source": [
    "for value in zipObj:\n",
    "    print(value)"
   ]
  },
  {
   "cell_type": "code",
   "execution_count": 21,
   "metadata": {
    "colab": {
     "base_uri": "https://localhost:8080/"
    },
    "id": "4HXdB57MffCG",
    "outputId": "5e291062-5e31-480b-b1ec-c9a23d751b78"
   },
   "outputs": [
    {
     "name": "stdout",
     "output_type": "stream",
     "text": [
      "('apple', 40, 101)\n",
      "('banana', 20, 102)\n",
      "('cherry', 25, 103)\n",
      "('Mango', 50, 104)\n"
     ]
    }
   ],
   "source": [
    "# Combine the given list objects\n",
    "\n",
    "a = [\"apple\", \"banana\", \"cherry\", \"Mango\"]\n",
    "b = [40, 20, 25, 50, 78]\n",
    "c = (101, 102, 103, 104, 105, 106)\n",
    "\n",
    "zipObj = zip(a,b,c)\n",
    "\n",
    "for value in zipObj:\n",
    "    print(value)"
   ]
  },
  {
   "cell_type": "code",
   "execution_count": 22,
   "metadata": {},
   "outputs": [
    {
     "name": "stdout",
     "output_type": "stream",
     "text": [
      "('apple', 40, 101)\n",
      "('banana', 20, 102)\n",
      "('cherry', 25, 103)\n",
      "('Mango', 50, 104)\n"
     ]
    }
   ],
   "source": [
    "listObj = list(zip(a,b,c))\n",
    "\n",
    "for value in listObj:\n",
    "    print(value)"
   ]
  },
  {
   "cell_type": "code",
   "execution_count": 23,
   "metadata": {},
   "outputs": [
    {
     "data": {
      "text/plain": [
       "[('apple', 40, 101),\n",
       " ('banana', 20, 102),\n",
       " ('cherry', 25, 103),\n",
       " ('Mango', 50, 104)]"
      ]
     },
     "execution_count": 23,
     "metadata": {},
     "output_type": "execute_result"
    }
   ],
   "source": [
    "listObj"
   ]
  },
  {
   "cell_type": "code",
   "execution_count": null,
   "metadata": {},
   "outputs": [],
   "source": [
    "# Add the zip elements to the list object\n",
    "\n",
    "a = [\"apple\", \"banana\", \"cherry\", \"Mango\"]\n",
    "b = [40, 20, 25, 50, 78]\n",
    "c = (101, 102, 103, 104, 105, 106)\n"
   ]
  },
  {
   "cell_type": "code",
   "execution_count": null,
   "metadata": {},
   "outputs": [],
   "source": []
  },
  {
   "cell_type": "markdown",
   "metadata": {
    "id": "g7PdwrCCmRYh"
   },
   "source": [
    "**enumerate() function**\n",
    "\n",
    "- The enumerate() function in python is an in-built function\n",
    "\n",
    "- The enumerate() method adds a counter to an iterable and returns it in a form of enumerating object.\n",
    "\n",
    "- This enumerated object can then be used directly in the for loop\n",
    "\n",
    "- syntax:\n",
    "\n",
    "  - enumerate(iterable, counter)\n",
    "\n",
    "  - the counter parameter is optional"
   ]
  },
  {
   "cell_type": "code",
   "execution_count": 25,
   "metadata": {
    "colab": {
     "base_uri": "https://localhost:8080/"
    },
    "id": "_JXpb1iLmRn7",
    "outputId": "5067942e-0448-499d-e8c4-19def0562201"
   },
   "outputs": [
    {
     "name": "stdout",
     "output_type": "stream",
     "text": [
      "(0, 'Raghu')\n",
      "(1, 'Ankit')\n",
      "(2, 'Arpita')\n",
      "(3, 'Ashok')\n"
     ]
    }
   ],
   "source": [
    "# display student names along with the index number\n",
    "\n",
    "students = [\"Raghu\", \"Ankit\", \"Arpita\", \"Ashok\"]\n",
    "\n",
    "for i in enumerate(students):\n",
    "    print(i)"
   ]
  },
  {
   "cell_type": "code",
   "execution_count": 26,
   "metadata": {
    "colab": {
     "base_uri": "https://localhost:8080/"
    },
    "id": "CHYPu7hLvTj8",
    "outputId": "54d50840-f479-4f1e-d3e6-8c13f808e457"
   },
   "outputs": [
    {
     "name": "stdout",
     "output_type": "stream",
     "text": [
      "(101, 'Raghu')\n",
      "(102, 'Ankit')\n",
      "(103, 'Aritra')\n",
      "(104, 'Ashok')\n"
     ]
    }
   ],
   "source": [
    "# display student names along with the counter starting from 101\n",
    "\n",
    "students = [\"Raghu\", \"Ankit\", \"Aritra\", \"Ashok\"]\n",
    "\n",
    "for i in enumerate(students, 101):\n",
    "    print(i)"
   ]
  },
  {
   "cell_type": "code",
   "execution_count": 28,
   "metadata": {},
   "outputs": [
    {
     "name": "stdout",
     "output_type": "stream",
     "text": [
      "(0, 'Ankit')\n",
      "(1, 'Ashok')\n",
      "(2, 'Aritra')\n",
      "(3, 'Raghu')\n"
     ]
    }
   ],
   "source": [
    "students = {\"Raghu\", \"Ankit\", \"Aritra\", \"Ashok\"}\n",
    "\n",
    "for i in enumerate(students):\n",
    "    print(i)"
   ]
  },
  {
   "cell_type": "code",
   "execution_count": null,
   "metadata": {},
   "outputs": [],
   "source": []
  },
  {
   "cell_type": "markdown",
   "metadata": {
    "id": "NTZLcsntmR4e"
   },
   "source": [
    "**Nested for loop**\n",
    "\n",
    "- A nested loop is a loop inside the body of the another loop.\n",
    "\n",
    "- The inner or outer loop can be any type, such as a while loop or for loop.\n",
    "\n",
    "- The outer loop can contain more than one inner loop.\n"
   ]
  },
  {
   "cell_type": "code",
   "execution_count": null,
   "metadata": {},
   "outputs": [],
   "source": [
    "'''\n",
    "- Syntax:\n",
    "  \n",
    "  for element in sequence:    \t# outer for loop\n",
    "  \n",
    "      for element in sequence:\t# inner for loop\n",
    "          Statement 1\n",
    "          Statement 2\n",
    "          ....\n",
    "          Statement n\n",
    "      Statement 1\t\t# statements of outer for loop\n",
    "      Statement 2\n",
    "      Statement n\n",
    "\n",
    "'''"
   ]
  },
  {
   "cell_type": "code",
   "execution_count": 29,
   "metadata": {
    "colab": {
     "base_uri": "https://localhost:8080/"
    },
    "id": "Ju5gX991mSKv",
    "outputId": "adf820a4-ece8-4668-c05c-79bb8ac36c2f"
   },
   "outputs": [
    {
     "name": "stdout",
     "output_type": "stream",
     "text": [
      "1 2 3 4 5 \n",
      "1 2 3 4 5 \n",
      "1 2 3 4 5 \n",
      "1 2 3 4 5 \n",
      "1 2 3 4 5 \n"
     ]
    }
   ],
   "source": [
    "# Write a nested for loop to print the pattern of numbers\n",
    "'''\n",
    "1 2 3 4 5\n",
    "1 2 3 4 5\n",
    "1 2 3 4 5\n",
    "1 2 3 4 5\n",
    "1 2 3 4 5\n",
    "'''\n",
    "for i in range(5):\n",
    "    for j in range(1,6):\n",
    "        print(j, end=' ')\n",
    "    print()\n"
   ]
  },
  {
   "cell_type": "code",
   "execution_count": 30,
   "metadata": {
    "colab": {
     "base_uri": "https://localhost:8080/"
    },
    "id": "oSBiEYNB01y4",
    "outputId": "b9beaa84-985a-4919-e34a-f342e7aa5541"
   },
   "outputs": [
    {
     "name": "stdout",
     "output_type": "stream",
     "text": [
      "1 \n",
      "1 2 \n",
      "1 2 3 \n",
      "1 2 3 4 \n",
      "1 2 3 4 5 \n"
     ]
    }
   ],
   "source": [
    "# Write a nested for loop to print the pattern of numbers\n",
    "'''\n",
    "1\n",
    "1 2\n",
    "1 2 3\n",
    "1 2 3 4\n",
    "1 2 3 4 5\n",
    "'''\n",
    "for i in range(1, 6):\n",
    "    for j in range(1, i+1):\n",
    "        print(j, end=' ')\n",
    "    print()\n"
   ]
  },
  {
   "cell_type": "code",
   "execution_count": null,
   "metadata": {},
   "outputs": [],
   "source": [
    "# Write a nested for loop to print the pattern of numbers\n",
    "'''\n",
    "1\n",
    "1 2\n",
    "1 2 3\n",
    "1 2 3 4\n",
    "1 2 3 4 5\n",
    "'''"
   ]
  },
  {
   "cell_type": "markdown",
   "metadata": {
    "id": "rOUAd_L21P9F"
   },
   "source": [
    "**Exercise Questions**"
   ]
  },
  {
   "cell_type": "code",
   "execution_count": null,
   "metadata": {
    "id": "_-2vNUwG011k"
   },
   "outputs": [],
   "source": [
    "'''\n",
    "1. Write a nested for loop to print the following patterns of numbers\n",
    "\n",
    "1 1 1 1 1\n",
    "2 2 2 2 2\n",
    "3 3 3 3 3\n",
    "4 4 4 4 4\n",
    "5 5 5 5 5\n",
    "\n",
    "5 4 3 2 1\n",
    "4 3 2 1\n",
    "3 2 1\n",
    "2 1\n",
    "1\n",
    "\n",
    "\n",
    "2. A list of animals is given as\n",
    "animals = ['zebra', 'lion', 'elephant', 'tiger', 'camel', 'dog']\n",
    "\n",
    "WAP to print animal names along with its index number\n",
    "\n",
    "\n",
    "3. Write a program to  aggregate the below 2 lists, and create a restaurant menu\n",
    "\n",
    "items=['Juice','Salad','Sandwich','Paratha','Idli Sambar','Dosa','Misal Pav']\n",
    "\n",
    "price=[100,150,80,180,90,120,50]\n",
    "\n",
    "Sample Output:\n",
    "\n",
    "('Juice', 100)\n",
    "('Salad', 150)\n",
    "('Sandwich', 80)\n",
    "('Paratha', 180)\n",
    "('Idli Sambar', 90)\n",
    "('Dosa', 120)\n",
    "('Misal Pav', 50)\n",
    "\n",
    "'''"
   ]
  },
  {
   "cell_type": "code",
   "execution_count": null,
   "metadata": {},
   "outputs": [],
   "source": []
  },
  {
   "cell_type": "markdown",
   "metadata": {
    "id": "ChkLdNM15H7A"
   },
   "source": [
    "**break statement**\n",
    "\n",
    "\n",
    "- The break statement is used to terminate or end the current loop ​\n",
    "\n",
    "- Once the break statement occurs, ​\n",
    "\n",
    "  - the current execution of loop stops, and ​\n",
    "\n",
    "  - the flow of control is transferred to the following line of code immediately after the loop​\n",
    "- **Note: break statement executes, means the loop gets terminated abruptly**"
   ]
  },
  {
   "cell_type": "code",
   "execution_count": 31,
   "metadata": {
    "colab": {
     "base_uri": "https://localhost:8080/"
    },
    "id": "nPg3gp6t1USJ",
    "outputId": "4d3ffa6a-5715-4276-9c99-c50594b7dfc5"
   },
   "outputs": [
    {
     "name": "stdout",
     "output_type": "stream",
     "text": [
      "Enter a number[enter 100 to stop]: 23\n",
      "Square: 529\n",
      "Enter a number[enter 100 to stop]: 54\n",
      "Square: 2916\n",
      "Enter a number[enter 100 to stop]: 100\n"
     ]
    }
   ],
   "source": [
    "# Enter ten numbers, display its square\n",
    "# stop the loop if the entered number is 100\n",
    "\n",
    "for i in range(10):\n",
    "    num = int(input('Enter a number[enter 100 to stop]: '))\n",
    "    if num==100:\n",
    "        break\n",
    "    print(f\"Square: {num**2}\")\n"
   ]
  },
  {
   "cell_type": "code",
   "execution_count": 32,
   "metadata": {
    "colab": {
     "base_uri": "https://localhost:8080/"
    },
    "id": "0_gqn--g6wu0",
    "outputId": "47132d0c-1dfd-4ef7-b476-8f59e2a8e3c5"
   },
   "outputs": [
    {
     "name": "stdout",
     "output_type": "stream",
     "text": [
      "0\n",
      "1\n",
      "2\n",
      "3\n",
      "4\n",
      "5\n"
     ]
    }
   ],
   "source": [
    "# Observe the code and guess the output\n",
    "\n",
    "for i in range(10):\n",
    "    print(i)\n",
    "    if i == 5:\n",
    "        break\n",
    "\n",
    "for i in range(10):\n",
    "    for j in range(20):\n",
    "        for k in range(30):\n",
    "            if k == 2:\n",
    "                break\n"
   ]
  },
  {
   "cell_type": "code",
   "execution_count": null,
   "metadata": {
    "id": "oH1Ld9LB7V9a"
   },
   "outputs": [],
   "source": []
  },
  {
   "cell_type": "markdown",
   "metadata": {
    "id": "KdFeQr-O7WU5"
   },
   "source": [
    "**continue statement**\n",
    "\n",
    "- The continue statement skips the current iteration of a loop​\n",
    "\n",
    "- It then immediately jumps to the next iteration skipping the remaining code​\n",
    "\n",
    "- You can use continue statement if you want to jump to the next iteration of the loop immediately​\n",
    "\n",
    "- The continue statement doesn’t terminate the loop\n",
    "but continues the next iteration ignoring the specified block of code​\n"
   ]
  },
  {
   "cell_type": "code",
   "execution_count": 33,
   "metadata": {},
   "outputs": [
    {
     "name": "stdout",
     "output_type": "stream",
     "text": [
      "Enter a number[enter 100 to stop]: 4\n",
      "Square: 16\n",
      "Enter a number[enter 100 to stop]: 5\n",
      "Square: 25\n",
      "Enter a number[enter 100 to stop]: 100\n",
      "Enter a number[enter 100 to stop]: 67\n",
      "Square: 4489\n",
      "Enter a number[enter 100 to stop]: 89\n",
      "Square: 7921\n",
      "Enter a number[enter 100 to stop]: 100\n",
      "Enter a number[enter 100 to stop]: 5\n",
      "Square: 25\n",
      "Enter a number[enter 100 to stop]: 2\n",
      "Square: 4\n",
      "Enter a number[enter 100 to stop]: 4\n",
      "Square: 16\n",
      "Enter a number[enter 100 to stop]: 77\n",
      "Square: 5929\n"
     ]
    }
   ],
   "source": [
    "# Enter ten numbers, display its square\n",
    "# don't show the square, if the entered number is 100\n",
    "\n",
    "for i in range(10):\n",
    "    num = int(input('Enter a number[enter 100 to stop]: '))\n",
    "    if num==100:\n",
    "        continue\n",
    "    print(f\"Square: {num**2}\")\n"
   ]
  },
  {
   "cell_type": "code",
   "execution_count": 34,
   "metadata": {
    "colab": {
     "base_uri": "https://localhost:8080/"
    },
    "id": "nm2KfstB7W1K",
    "outputId": "73f2927b-a081-4dfe-d5cb-f619ba7d4b1e"
   },
   "outputs": [
    {
     "name": "stdout",
     "output_type": "stream",
     "text": [
      "Enter a name: apple\n",
      "The letter a appears 1 times\n"
     ]
    }
   ],
   "source": [
    "# Observe the code\n",
    "\n",
    "# Enter name & display \n",
    "# count of occurrence of letter 'a' in a given string\n",
    "\n",
    "name = input(\"Enter a name: \")\n",
    "count = 0\n",
    "\n",
    "for i in name:\n",
    "    if i != 'a':\n",
    "        continue\n",
    "    count += 1\n",
    "\n",
    "print(f'The letter a appears {count} times')"
   ]
  },
  {
   "cell_type": "code",
   "execution_count": null,
   "metadata": {},
   "outputs": [],
   "source": [
    "# Enter name & display \n",
    "# count of occurrence of letter 'a' in a given string\n",
    "\n",
    "# Write this program without using continue\n"
   ]
  },
  {
   "cell_type": "markdown",
   "metadata": {},
   "source": [
    "#### isalpha()\n",
    "- The isalpha() method is use to check if the given object is alphabet or not\n",
    "- It returns a boolean value\n",
    "- Syntax: **object.isalpha()**"
   ]
  },
  {
   "cell_type": "code",
   "execution_count": 35,
   "metadata": {
    "colab": {
     "base_uri": "https://localhost:8080/"
    },
    "id": "FRSSUwGg7XCL",
    "outputId": "407c5583-2f97-4bb5-bcee-f9b4e018e5d5"
   },
   "outputs": [
    {
     "name": "stdout",
     "output_type": "stream",
     "text": [
      "Qwertyre"
     ]
    }
   ],
   "source": [
    "# Observe the code\n",
    "\n",
    "# Example: display only alphabets  from the  given alphanumeric string\n",
    "\n",
    "string1 = \"Qwe0rt3y92re54\"\n",
    "\n",
    "for ch in string1:\n",
    "    if ch.isalpha():\n",
    "        print(ch, end='')"
   ]
  },
  {
   "cell_type": "code",
   "execution_count": null,
   "metadata": {
    "id": "mn1dthRE8isg"
   },
   "outputs": [],
   "source": []
  },
  {
   "cell_type": "markdown",
   "metadata": {
    "id": "wytXJakg8joG"
   },
   "source": [
    "**Pass Statement in for loop**\n",
    "\n",
    "- The pass statement is a null statement, i.e., nothing happens when the statement is executed.\n",
    "\n",
    "- Primarily it is used in empty functions or classes. When the interpreter finds a pass statement in the program, it returns no operation.\n",
    "\n",
    "- Sometimes there is a situation in programming where we need to define a syntactically empty block. We can define that block with the pass keyword.\n"
   ]
  },
  {
   "cell_type": "code",
   "execution_count": null,
   "metadata": {
    "id": "aarC68a-8j4A"
   },
   "outputs": [],
   "source": [
    "# Observe the given code\n",
    "\n",
    "num = [1, 4, 5, 3, 7, 8]\n",
    "\n",
    "for i in num:\n",
    "    # calculate multiplication in future if required\n",
    "    pass\n"
   ]
  },
  {
   "cell_type": "markdown",
   "metadata": {
    "id": "s4UKbzTY9aPC"
   },
   "source": [
    "**Else block in for loop**\n",
    "\n",
    "- Same as the if statement, Python allows us to use an else statement along with for loop.\n",
    "\n",
    "- In Python, for-loop can have the else block, which will be executed when the loop terminates normally. Defining the else part with for loop is optional.\n",
    "\n",
    "- else block gets skipped when:-\n",
    "  - for loop terminate abruptly\n",
    "  - the break statement is used to break the loop\n"
   ]
  },
  {
   "cell_type": "code",
   "execution_count": 37,
   "metadata": {},
   "outputs": [
    {
     "name": "stdout",
     "output_type": "stream",
     "text": [
      "Enter a number: 33\n",
      "Number = 33 | Square = 1089\n",
      "Enter a number: 100\n"
     ]
    }
   ],
   "source": [
    "# Observe the given code\n",
    "\n",
    "# Enter ten numbers, display its square\n",
    "# break the loop if the entered number is 100\n",
    "\n",
    "for i in range(5):\n",
    "    num = int(input(\"Enter a number: \"))\n",
    "    if num == 100:\n",
    "        break\n",
    "    print(f'Number = {num} | Square = {num*num}')\n",
    "else:\n",
    "    print('I am done here')\n",
    "    "
   ]
  },
  {
   "cell_type": "code",
   "execution_count": null,
   "metadata": {},
   "outputs": [],
   "source": []
  },
  {
   "cell_type": "markdown",
   "metadata": {},
   "source": [
    "### Working of break and continue with for loop"
   ]
  },
  {
   "cell_type": "code",
   "execution_count": 38,
   "metadata": {
    "colab": {
     "base_uri": "https://localhost:8080/"
    },
    "id": "Hy0Jjhvl8j8v",
    "outputId": "83a7e626-8d21-42fd-d8ca-e2e799e988e5"
   },
   "outputs": [
    {
     "name": "stdout",
     "output_type": "stream",
     "text": [
      "1\n",
      "2\n"
     ]
    }
   ],
   "source": [
    "# Let's Observe the output\n",
    "\n",
    "count = 0\n",
    "for i in range(1, 6):\n",
    "    count = count + 1\n",
    "    if count > 2:\n",
    "        break\n",
    "    else:\n",
    "        print(i)\n",
    "else:\n",
    "    print(\"Done\")\n"
   ]
  },
  {
   "cell_type": "code",
   "execution_count": 39,
   "metadata": {
    "colab": {
     "base_uri": "https://localhost:8080/"
    },
    "id": "Q0Wgi6Ogrczn",
    "outputId": "49284e35-61d0-4036-d459-aca7fcecd32f"
   },
   "outputs": [
    {
     "name": "stdout",
     "output_type": "stream",
     "text": [
      "1\n",
      "2\n",
      "**************\n",
      "**************\n",
      "**************\n",
      "Done\n"
     ]
    }
   ],
   "source": [
    "# Let's Observe the output\n",
    "\n",
    "count = 0\n",
    "for i in range(1, 6):\n",
    "    count = count + 1\n",
    "    if count > 2:\n",
    "        print(\"**************\")\n",
    "        continue\n",
    "    else:\n",
    "        print(i)\n",
    "else:\n",
    "    print(\"Done\")\n"
   ]
  },
  {
   "cell_type": "markdown",
   "metadata": {
    "id": "X9A71Umf_mCo"
   },
   "source": [
    "**MORE ABOUT STRING**\n"
   ]
  },
  {
   "cell_type": "markdown",
   "metadata": {
    "id": "mlkzaRMe-0WC"
   },
   "source": [
    "**string punctuation**\n",
    "\n",
    "- The string punctuation is pre-defined in the **string module** of Python3.\n",
    "\n",
    "- It contains all the characters as a string.\n",
    "\n",
    "- punctuation is a pre-initialized string (having all special symbols). It can be used as a string constant.\n",
    "\n",
    "- In python, **string.punctuation** will give all sets of punctuation.\n",
    "\n",
    "- Note that it is not a function therefore there will be no parameters taken."
   ]
  },
  {
   "cell_type": "code",
   "execution_count": 40,
   "metadata": {
    "colab": {
     "base_uri": "https://localhost:8080/"
    },
    "id": "TiGjT7CR8kAN",
    "outputId": "f0d53a17-b3b8-46ab-9684-b46c371a7db3"
   },
   "outputs": [],
   "source": [
    "# display all string punctuation\n",
    "\n",
    "import string"
   ]
  },
  {
   "cell_type": "code",
   "execution_count": 41,
   "metadata": {
    "colab": {
     "base_uri": "https://localhost:8080/"
    },
    "id": "LS9ssIpTsJDd",
    "outputId": "8423f0e6-8e7f-4cda-ef3e-01acb88392d2"
   },
   "outputs": [
    {
     "name": "stdout",
     "output_type": "stream",
     "text": [
      "['Formatter', 'Template', '_ChainMap', '__all__', '__builtins__', '__cached__', '__doc__', '__file__', '__loader__', '__name__', '__package__', '__spec__', '_re', '_sentinel_dict', '_string', 'ascii_letters', 'ascii_lowercase', 'ascii_uppercase', 'capwords', 'digits', 'hexdigits', 'octdigits', 'printable', 'punctuation', 'whitespace']\n"
     ]
    }
   ],
   "source": [
    "# display all string methods\n",
    "\n",
    "print(dir(string))"
   ]
  },
  {
   "cell_type": "code",
   "execution_count": 42,
   "metadata": {},
   "outputs": [
    {
     "name": "stdout",
     "output_type": "stream",
     "text": [
      "!\"#$%&'()*+,-./:;<=>?@[\\]^_`{|}~\n"
     ]
    }
   ],
   "source": [
    "print(string.punctuation)"
   ]
  },
  {
   "cell_type": "code",
   "execution_count": 43,
   "metadata": {
    "colab": {
     "base_uri": "https://localhost:8080/"
    },
    "id": "0lgmeGVE--_K",
    "outputId": "de5852b0-c0c9-4d83-ed42-b810d7079c86"
   },
   "outputs": [
    {
     "data": {
      "text/plain": [
       "True"
      ]
     },
     "execution_count": 43,
     "metadata": {},
     "output_type": "execute_result"
    }
   ],
   "source": [
    "# Check if the character '@', '#', \"1\", 'A' is present in string module\n",
    "\n",
    "'@' in string.punctuation"
   ]
  },
  {
   "cell_type": "code",
   "execution_count": 44,
   "metadata": {},
   "outputs": [
    {
     "data": {
      "text/plain": [
       "False"
      ]
     },
     "execution_count": 44,
     "metadata": {},
     "output_type": "execute_result"
    }
   ],
   "source": [
    "'1' in string.punctuation"
   ]
  },
  {
   "cell_type": "code",
   "execution_count": 45,
   "metadata": {},
   "outputs": [
    {
     "data": {
      "text/plain": [
       "False"
      ]
     },
     "execution_count": 45,
     "metadata": {},
     "output_type": "execute_result"
    }
   ],
   "source": [
    "'A' in string.punctuation"
   ]
  },
  {
   "cell_type": "markdown",
   "metadata": {},
   "source": [
    "#### Observe the given code"
   ]
  },
  {
   "cell_type": "code",
   "execution_count": null,
   "metadata": {
    "colab": {
     "base_uri": "https://localhost:8080/"
    },
    "id": "YnFM9uK1ASvm",
    "outputId": "7dfbf212-c084-4801-8337-3b6b3fb8540b"
   },
   "outputs": [],
   "source": [
    "# Code is for observation\n",
    "# Enter a code. Find if the code contains any special symbol.\n",
    "\n",
    "import string\n",
    "\n",
    "code = input(\"Enter a code: \")\n",
    "\n",
    "for ch in code:\n",
    "    if ch in string.punctuation:\n",
    "        print(f\"String contains special symbol {ch}\")\n",
    "    else:\n",
    "        print(\"No special symbol\")\n",
    "else:\n",
    "    print(\"Done with string module\")\n",
    "    "
   ]
  },
  {
   "cell_type": "code",
   "execution_count": null,
   "metadata": {
    "colab": {
     "base_uri": "https://localhost:8080/"
    },
    "id": "c9Tr4FcktBOh",
    "outputId": "71bced05-e937-4a32-fe83-ca733da6f8a5"
   },
   "outputs": [],
   "source": [
    "# Code is for observation\n",
    "# Enter a code. Find if the code contains any special sumbol.\n",
    "\n",
    "import string\n",
    "\n",
    "code = input(\"Enter a code: \")\n",
    "\n",
    "for ch in code:\n",
    "    if ch in string.punctuation:\n",
    "        print(f\"String contains special symbol {ch}\")\n",
    "        break\n",
    "else:\n",
    "    print(\"String doesn't contains special symbol\")\n",
    "    "
   ]
  },
  {
   "cell_type": "markdown",
   "metadata": {
    "id": "K-OGSZoR1Urp"
   },
   "source": [
    "**Exercise Questions**"
   ]
  },
  {
   "cell_type": "raw",
   "metadata": {
    "id": "NbGbvbmC1Vad"
   },
   "source": [
    "1. Find if the entered string is alphanumeric or not\n",
    "\n",
    "2. Count the number of digits in a given number ( hint: use len(), str() functions )\n",
    "\n",
    "3. Write a program to  print all the numbers between 5 and 15 except 10.\n"
   ]
  },
  {
   "cell_type": "code",
   "execution_count": null,
   "metadata": {
    "colab": {
     "base_uri": "https://localhost:8080/"
    },
    "id": "VfMUb0tjtu-z",
    "outputId": "9f5bffe8-4ffa-4459-e2b9-cfc6dd826e1f"
   },
   "outputs": [],
   "source": []
  },
  {
   "cell_type": "markdown",
   "metadata": {},
   "source": [
    "### Guess a number game Project"
   ]
  },
  {
   "cell_type": "code",
   "execution_count": 51,
   "metadata": {
    "colab": {
     "base_uri": "https://localhost:8080/"
    },
    "id": "z8qJiLOhuDSx",
    "outputId": "1295e54c-0477-4d34-8199-51a8a685621c"
   },
   "outputs": [
    {
     "name": "stdout",
     "output_type": "stream",
     "text": [
      "Choose a number bet 1 to 10: 7\n",
      "Choose a lower number\n",
      "Choose a number bet 1 to 10: 6\n",
      "Choose a lower number\n",
      "Choose a number bet 1 to 10: 4\n",
      "Choose a lower number\n",
      "Choose a number bet 1 to 10: 2\n",
      "You won!\n"
     ]
    }
   ],
   "source": [
    "# Guess a number game\n",
    "# User and computer will guess a number between 1 to 10\n",
    "# Find if both guess the same number\n",
    "# If they do, user wins\n",
    "# Else give another chance to the user\n",
    "# Only 4 chances are given\n",
    "# Finally if user couldn't guess, \n",
    "# display the correct guess and guesses taken\n",
    "\n",
    "import random\n",
    "\n",
    "comp = random.randint(1,10)\n",
    "guess = 5\n",
    "\n",
    "for i in range(guess):\n",
    "    num = int(input(\"Choose a number bet 1 to 10: \"))\n",
    "    if num == comp:\n",
    "        print('You won!')\n",
    "        break\n",
    "    elif num > comp:\n",
    "        print('Choose a lower number')\n",
    "    elif num < comp:\n",
    "        print('Choose a higher number')\n",
    "else:\n",
    "    print(f'The number is {comp}')\n",
    "    print(\"Better luck next time\")\n"
   ]
  },
  {
   "cell_type": "code",
   "execution_count": null,
   "metadata": {},
   "outputs": [],
   "source": []
  },
  {
   "cell_type": "markdown",
   "metadata": {},
   "source": [
    "### Armstrong number Project"
   ]
  },
  {
   "cell_type": "code",
   "execution_count": 57,
   "metadata": {},
   "outputs": [
    {
     "name": "stdout",
     "output_type": "stream",
     "text": [
      "Enter a number: 1\n",
      "1 is an armstrong number!\n"
     ]
    }
   ],
   "source": [
    "# enter a number. find if it's an armstrong or not.\n",
    "# 1, 153, 370, 371, 1634, 8208, 9474\n",
    "\n",
    "import math\n",
    "\n",
    "num = input('Enter a number: ')\n",
    "sums = 0\n",
    "power = len(num)\n",
    "\n",
    "for i in num:\n",
    "    digit = int(i)\n",
    "    sums = sums + math.pow(digit, power)\n",
    "    #print(sums)\n",
    "else:\n",
    "    if int(num) == int(sums):\n",
    "        print(f\"{num} is an armstrong number!\")\n",
    "    else:\n",
    "        print(f\"{num} is not an armstrong number!\")"
   ]
  },
  {
   "cell_type": "code",
   "execution_count": null,
   "metadata": {},
   "outputs": [],
   "source": []
  },
  {
   "cell_type": "markdown",
   "metadata": {
    "id": "tBqTJC755-Js"
   },
   "source": [
    "**While Loop**\n",
    "\n",
    "- The while loop in Python is used to iterate over a block of code as long as the test expression (condition) is true.\n",
    "\n",
    "- We generally use this loop when we don't know the number of times to iterate beforehand.\n",
    "\n",
    "- It checks the condition first the body of the loop is executed only if the condition evaluates to True.\n",
    "The loop executes until the condition evaluates to False\n",
    "Use while loop for indefinite Iteration or unknown number of iterations.\n",
    "\n",
    "- When you know definite Iteration or know number of iterations, you can use for loop\n",
    "\n",
    "**How while works:**\n",
    "\n",
    "- Loop variable initialization\n",
    "\n",
    "- Condition for termination\n",
    "\n",
    "- Updation of Loop variable"
   ]
  },
  {
   "cell_type": "raw",
   "metadata": {},
   "source": [
    "**Syntax:**\n",
    "\n",
    "while condition:\n",
    "    statement 1\n",
    "    statement 2\n",
    "    statement n\n"
   ]
  },
  {
   "cell_type": "code",
   "execution_count": null,
   "metadata": {
    "id": "QOhMb8V4v5-V"
   },
   "outputs": [],
   "source": [
    "'''\n",
    "while condition:\n",
    "  statement\n",
    "  statement\n",
    "  ....\n",
    "else:\n",
    "  statement\n",
    "  statement\n",
    "  ....\n",
    "'''\n",
    "# loop control variable\n",
    "# increment or decrement the loop control variable\n"
   ]
  },
  {
   "cell_type": "code",
   "execution_count": 58,
   "metadata": {
    "colab": {
     "base_uri": "https://localhost:8080/"
    },
    "id": "fV_j7zBHv6PL",
    "outputId": "a27158cc-371c-4cd6-cbf7-f9aa377ca6d0"
   },
   "outputs": [
    {
     "name": "stdout",
     "output_type": "stream",
     "text": [
      "1 2 3 4 5 6 7 8 9 10 "
     ]
    }
   ],
   "source": [
    "# print numbers from 1 to 10\n",
    "i = 1\n",
    "\n",
    "while i<=10:\n",
    "    print(i, end=' ')\n",
    "    i += 1\n"
   ]
  },
  {
   "cell_type": "code",
   "execution_count": 59,
   "metadata": {
    "colab": {
     "base_uri": "https://localhost:8080/"
    },
    "id": "Mf7fcF1_wcCw",
    "outputId": "205c619b-2c6c-4af8-9747-91269ab7e6a5"
   },
   "outputs": [
    {
     "name": "stdout",
     "output_type": "stream",
     "text": [
      "10 9 8 7 6 5 4 3 2 1 "
     ]
    }
   ],
   "source": [
    "# print numbers 10 9 8 7 .... 1\n",
    "i = 10\n",
    "\n",
    "while i>=1:\n",
    "    print(i, end=' ')\n",
    "    i -= 1"
   ]
  },
  {
   "cell_type": "code",
   "execution_count": 60,
   "metadata": {
    "colab": {
     "base_uri": "https://localhost:8080/"
    },
    "id": "v8Pm1vtcw5Yr",
    "outputId": "1f415e69-dcf0-430a-e1e5-ade42be8d563"
   },
   "outputs": [
    {
     "name": "stdout",
     "output_type": "stream",
     "text": [
      "43 78 65 10 90 23 "
     ]
    }
   ],
   "source": [
    "# Observe the code\n",
    "\n",
    "# display list elements using while\n",
    "\n",
    "list1 = [43, 78, 65, 10, 90, 23]\n",
    "\n",
    "length = len(list1)\n",
    "i = 0\n",
    "\n",
    "while i<length:\n",
    "    print(list1[i], end=' ')\n",
    "    i += 1\n",
    "    "
   ]
  },
  {
   "cell_type": "code",
   "execution_count": null,
   "metadata": {
    "colab": {
     "base_uri": "https://localhost:8080/"
    },
    "id": "J3svRRyTv6R3",
    "outputId": "c363e0e2-e0c4-4c9b-ffbe-86318d00bfcb"
   },
   "outputs": [],
   "source": [
    "# WAP to print first 10 odd numbers\n"
   ]
  },
  {
   "cell_type": "code",
   "execution_count": 61,
   "metadata": {
    "colab": {
     "base_uri": "https://localhost:8080/"
    },
    "id": "LvPa8GwayF6d",
    "outputId": "d27d1c61-7ced-469f-f025-6076e3a3b350"
   },
   "outputs": [
    {
     "name": "stdout",
     "output_type": "stream",
     "text": [
      "Enter ur message[stop to break]: aaa\n",
      "aaa\n",
      "Enter ur message[stop to break]: fff\n",
      "fff\n",
      "Enter ur message[stop to break]: rrr\n",
      "rrr\n",
      "Enter ur message[stop to break]: stop\n"
     ]
    }
   ],
   "source": [
    "'''\n",
    "WAP to print the messages entered by user, until user enters 'STOP'\n",
    "\n",
    "Sample Output:\n",
    "\n",
    "Enter your msg:hi\n",
    "You entered: hi\n",
    "Enter next msg (Enter STOP if no more messages are there):how are you\n",
    "You entered: how are you\n",
    "Enter next msg (Enter STOP if no more messages are there):STOP\n",
    "'''\n",
    "while True:\n",
    "    msg = input('Enter ur message[stop to break]: ')\n",
    "    if msg == 'stop':\n",
    "        break\n",
    "    print(msg)\n"
   ]
  },
  {
   "cell_type": "code",
   "execution_count": 62,
   "metadata": {
    "colab": {
     "base_uri": "https://localhost:8080/"
    },
    "id": "Q6rUnBOq0ShS",
    "outputId": "1d55f1f5-5b2c-48b9-f664-0f0b8f6f68eb"
   },
   "outputs": [
    {
     "name": "stdout",
     "output_type": "stream",
     "text": [
      "Enter a number: 5\n",
      "5 x 1 = 5\n",
      "5 x 2 = 10\n",
      "5 x 3 = 15\n",
      "5 x 4 = 20\n",
      "5 x 5 = 25\n",
      "5 x 6 = 30\n",
      "5 x 7 = 35\n",
      "5 x 8 = 40\n",
      "5 x 9 = 45\n",
      "5 x 10 = 50\n"
     ]
    }
   ],
   "source": [
    "# Observe the code\n",
    "# Program to display table of an entered number\n",
    "\n",
    "num = int(input('Enter a number: '))\n",
    "i=1\n",
    "\n",
    "while i<=10:\n",
    "    print(f'{num} x {i} = {num*i}')\n",
    "    i += 1"
   ]
  },
  {
   "cell_type": "code",
   "execution_count": null,
   "metadata": {
    "colab": {
     "base_uri": "https://localhost:8080/"
    },
    "id": "wrvQCD1t6bFR",
    "outputId": "09d32046-7778-4d9f-f956-f607341802fe"
   },
   "outputs": [],
   "source": [
    "# Observe the code\n",
    "\n",
    "# Find Factorial of a number using while loop\n",
    "# 5! = 5*4*3*2*1 = 120\n",
    "num = 5\n",
    "fact = 1\n",
    "\n",
    "while num >=1:\n",
    "    fact *= num\n",
    "    num -= 1\n",
    "else:\n",
    "    print(fact)"
   ]
  },
  {
   "cell_type": "code",
   "execution_count": 63,
   "metadata": {
    "id": "8J66luH37ehI"
   },
   "outputs": [
    {
     "name": "stdout",
     "output_type": "stream",
     "text": [
      "Hello World\n",
      "Hello World\n",
      "Hello World\n",
      "Hello World\n"
     ]
    }
   ],
   "source": [
    "# While loop executing infinite times\n",
    "# How will you make the loop execute finite times\n",
    "\n",
    "num = 1\n",
    "\n",
    "while num<5:\n",
    "    print('Hello World')\n",
    "    num += 1\n"
   ]
  },
  {
   "cell_type": "code",
   "execution_count": null,
   "metadata": {
    "id": "XKZ6TS4Z8OJV"
   },
   "outputs": [],
   "source": []
  },
  {
   "cell_type": "markdown",
   "metadata": {
    "id": "aZEK12DR7IZR"
   },
   "source": [
    "**Exercise Questions**"
   ]
  },
  {
   "cell_type": "raw",
   "metadata": {
    "id": "cV6NMqZo69Zx"
   },
   "source": [
    "1. WAP to check whether a number entered by user is prime or not.\n",
    "\n",
    "A number is said to be prime, if it is divisible by 1 and itself only.\n",
    "\n",
    "Prime numbers from 1 - 100 are :\n",
    "2, 3, 5, 7, 11, 13, 17, 19, 23, 29, 31, 37, 41, 43, 47, 53, 59, 61, 67, 71, 73, 79, 83, 89, 97\n",
    "\n",
    "Sample Output:\n",
    "\n",
    "Enter the number to be checked for prime:67\n",
    "Prime number\n",
    "Enter the number to be checked for prime:33\n",
    "Not a prime number\n",
    "\n",
    "\n",
    "2. WAP to print all the integers and their squares. User should provide\n",
    "\n",
    "The number to start the series from\n",
    "What should be the max value to stop (Squared value should not be more than the max value).\n",
    "\n",
    "Sample Output:\n",
    "\n",
    "Enter a number to start the square series:21\n",
    "Enter the number after/on which the squared values are not required: 899\n",
    "21 : 441\n",
    "22 : 484\n",
    "23 : 529\n",
    "24 : 576\n",
    "25 : 625\n",
    "26 : 676\n",
    "27 : 729\n",
    "28 : 784\n",
    "29 : 841\n",
    "Thats all folks!!\n",
    "\n",
    "3. Find if an entered year is leap year or not."
   ]
  }
 ],
 "metadata": {
  "colab": {
   "provenance": []
  },
  "kernelspec": {
   "display_name": "Python 3 (ipykernel)",
   "language": "python",
   "name": "python3"
  },
  "language_info": {
   "codemirror_mode": {
    "name": "ipython",
    "version": 3
   },
   "file_extension": ".py",
   "mimetype": "text/x-python",
   "name": "python",
   "nbconvert_exporter": "python",
   "pygments_lexer": "ipython3",
   "version": "3.11.5"
  }
 },
 "nbformat": 4,
 "nbformat_minor": 1
}
